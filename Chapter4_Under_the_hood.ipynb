{
  "nbformat": 4,
  "nbformat_minor": 0,
  "metadata": {
    "colab": {
      "provenance": [],
      "authorship_tag": "ABX9TyMjhqgaSaOejdsXYKnmmK4A",
      "include_colab_link": true
    },
    "kernelspec": {
      "name": "python3",
      "display_name": "Python 3"
    },
    "language_info": {
      "name": "python"
    }
  },
  "cells": [
    {
      "cell_type": "markdown",
      "metadata": {
        "id": "view-in-github",
        "colab_type": "text"
      },
      "source": [
        "<a href=\"https://colab.research.google.com/github/ttcielott/Deep-Learning-with-PyTorch/blob/main/Chapter4_Under_the_hood.ipynb\" target=\"_parent\"><img src=\"https://colab.research.google.com/assets/colab-badge.svg\" alt=\"Open In Colab\"/></a>"
      ]
    },
    {
      "cell_type": "markdown",
      "source": [
        "# Deep Learning for Coders with Fastai and PyTorch\n",
        "by Jeremy Howard and Sylvain Gugger\n",
        "\n",
        "## Chapter 4. Under the Hood: Training a Digit Classifier\n",
        "\n",
        "This notebook will write a summary of chapter 4 and run the codes for practice. The chapter explains how deep learning works under the hood.\n",
        "The chapter 4 comprises of 9 parts as below.\n",
        "\n",
        "\n",
        "1.   Pixels: The Foundations of Computer Vision\n",
        "2.   First Try: Pixel Simialarity\n",
        "3.   Computing Metrics Using\n",
        "4.   Stochastic Gradient Descent\n",
        "5.   The MNIST Loss Function\n",
        "6.   Putting It All Together\n",
        "7.   Adding Nonlinearity\n",
        "8.   Jargon Recap\n",
        "9.   Questionnaire\n",
        "\n",
        "\n"
      ],
      "metadata": {
        "id": "90bsEF4zxw5D"
      }
    },
    {
      "cell_type": "code",
      "source": [
        "# import fastai library\n",
        "\n",
        "from fastai.vision.all import *"
      ],
      "metadata": {
        "id": "TOqjCrFv5jBK"
      },
      "execution_count": 1,
      "outputs": []
    },
    {
      "cell_type": "markdown",
      "source": [
        "## 1. Pixels: The Foundations of Computer Vison\n",
        "\n",
        "To understand what happens in a computer vision, we first have to understand how computers handle images.\n",
        "\n",
        "Dataset for this tutorial: MNIST samples\n",
        "\n",
        "**About MNIST dataset** \n",
        "\n",
        "images of handwritten digits, collected by the National Institute of Standards and Technology and collated into a machine learning dataset by Yann Lecun and his colleqgues."
      ],
      "metadata": {
        "id": "9ObAmwME5GJN"
      }
    },
    {
      "cell_type": "code",
      "source": [
        "# download a sample of MNIST\n",
        "path = untar_data(URLs.MNIST_SAMPLE)"
      ],
      "metadata": {
        "colab": {
          "base_uri": "https://localhost:8080/",
          "height": 37
        },
        "id": "C7GUHjiI5LvG",
        "outputId": "94f12188-0452-4656-8ae6-a8d00f6ec384"
      },
      "execution_count": 2,
      "outputs": [
        {
          "output_type": "display_data",
          "data": {
            "text/plain": [
              "<IPython.core.display.HTML object>"
            ],
            "text/html": [
              "\n",
              "<style>\n",
              "    /* Turns off some styling */\n",
              "    progress {\n",
              "        /* gets rid of default border in Firefox and Opera. */\n",
              "        border: none;\n",
              "        /* Needs to be in here for Safari polyfill so background images work as expected. */\n",
              "        background-size: auto;\n",
              "    }\n",
              "    progress:not([value]), progress:not([value])::-webkit-progress-bar {\n",
              "        background: repeating-linear-gradient(45deg, #7e7e7e, #7e7e7e 10px, #5c5c5c 10px, #5c5c5c 20px);\n",
              "    }\n",
              "    .progress-bar-interrupted, .progress-bar-interrupted::-webkit-progress-bar {\n",
              "        background: #F44336;\n",
              "    }\n",
              "</style>\n"
            ]
          },
          "metadata": {}
        },
        {
          "output_type": "display_data",
          "data": {
            "text/plain": [
              "<IPython.core.display.HTML object>"
            ],
            "text/html": [
              "\n",
              "    <div>\n",
              "      <progress value='3219456' class='' max='3214948' style='width:300px; height:20px; vertical-align: middle;'></progress>\n",
              "      100.14% [3219456/3214948 00:00&lt;00:00]\n",
              "    </div>\n",
              "    "
            ]
          },
          "metadata": {}
        }
      ]
    },
    {
      "cell_type": "code",
      "source": [
        "# view what's in this directory by using ls\n",
        "# ls, a method added by fastai\n",
        "# returns an object of a special fastai class called L (similar to Python List)\n",
        "path.ls()"
      ],
      "metadata": {
        "colab": {
          "base_uri": "https://localhost:8080/"
        },
        "id": "M475la4n6FTL",
        "outputId": "5e02b9f9-1c55-47f0-b0b8-ef6be8ab47c1"
      },
      "execution_count": 3,
      "outputs": [
        {
          "output_type": "execute_result",
          "data": {
            "text/plain": [
              "(#3) [Path('/root/.fastai/data/mnist_sample/train'),Path('/root/.fastai/data/mnist_sample/labels.csv'),Path('/root/.fastai/data/mnist_sample/valid')]"
            ]
          },
          "metadata": {},
          "execution_count": 3
        }
      ]
    },
    {
      "cell_type": "markdown",
      "source": [
        "The MNIST dataset follows a common layout for machine learning dataset:\n",
        "\n",
        "*   training set folder\n",
        "*   validation set folder\n",
        "\n"
      ],
      "metadata": {
        "id": "boGguLQb9xzc"
      }
    },
    {
      "cell_type": "code",
      "source": [
        "# view what's inside the training set (folder, train)\n",
        "(path/'train').ls()"
      ],
      "metadata": {
        "colab": {
          "base_uri": "https://localhost:8080/"
        },
        "id": "jYQNstzp9Nx6",
        "outputId": "c3f0d0a4-5d97-4bdc-b58d-c948bbeb3940"
      },
      "execution_count": 4,
      "outputs": [
        {
          "output_type": "execute_result",
          "data": {
            "text/plain": [
              "(#2) [Path('/root/.fastai/data/mnist_sample/train/7'),Path('/root/.fastai/data/mnist_sample/train/3')]"
            ]
          },
          "metadata": {},
          "execution_count": 4
        }
      ]
    },
    {
      "cell_type": "markdown",
      "source": [
        "There's a folder of 3s and a folder of 7s."
      ],
      "metadata": {
        "id": "W27mLSgY-WzC"
      }
    },
    {
      "cell_type": "code",
      "source": [
        "# look in folders\n",
        "# sort the file to get the same order of files\n",
        "threes = (path/'train'/'3').ls().sorted()\n",
        "sevens = (path/'train'/'7').ls().sorted()\n",
        "threes"
      ],
      "metadata": {
        "colab": {
          "base_uri": "https://localhost:8080/"
        },
        "id": "TMJogpWs-Udm",
        "outputId": "176e519b-ee86-4294-ee27-eaf25ef2888f"
      },
      "execution_count": 7,
      "outputs": [
        {
          "output_type": "execute_result",
          "data": {
            "text/plain": [
              "(#6131) [Path('/root/.fastai/data/mnist_sample/train/3/10.png'),Path('/root/.fastai/data/mnist_sample/train/3/10000.png'),Path('/root/.fastai/data/mnist_sample/train/3/10011.png'),Path('/root/.fastai/data/mnist_sample/train/3/10031.png'),Path('/root/.fastai/data/mnist_sample/train/3/10034.png'),Path('/root/.fastai/data/mnist_sample/train/3/10042.png'),Path('/root/.fastai/data/mnist_sample/train/3/10052.png'),Path('/root/.fastai/data/mnist_sample/train/3/1007.png'),Path('/root/.fastai/data/mnist_sample/train/3/10074.png'),Path('/root/.fastai/data/mnist_sample/train/3/10091.png')...]"
            ]
          },
          "metadata": {},
          "execution_count": 7
        }
      ]
    },
    {
      "cell_type": "code",
      "source": [
        "# pick one file path\n",
        "im3_path = threes[1]\n",
        "im3_path"
      ],
      "metadata": {
        "colab": {
          "base_uri": "https://localhost:8080/"
        },
        "id": "47y6-vSG-56S",
        "outputId": "a59dade0-565c-4b18-aa4d-4c97a2d8118c"
      },
      "execution_count": 8,
      "outputs": [
        {
          "output_type": "execute_result",
          "data": {
            "text/plain": [
              "Path('/root/.fastai/data/mnist_sample/train/3/10000.png')"
            ]
          },
          "metadata": {},
          "execution_count": 8
        }
      ]
    },
    {
      "cell_type": "code",
      "source": [
        "# open the file using Image class\n",
        "# Image class is from the Python Image Library, PIL\n",
        "# PIL is for opening, manipulation, and viewing images\n",
        "im3 = Image.open(im3_path)\n",
        "im3"
      ],
      "metadata": {
        "colab": {
          "base_uri": "https://localhost:8080/",
          "height": 45
        },
        "id": "YfFIeD8m_TiW",
        "outputId": "43d56b29-9ffe-4481-fe25-db2e4580dc38"
      },
      "execution_count": 10,
      "outputs": [
        {
          "output_type": "execute_result",
          "data": {
            "text/plain": [
              "<PIL.PngImagePlugin.PngImageFile image mode=L size=28x28>"
            ],
            "image/png": "[encoded data removed]"
          },
          "metadata": {},
          "execution_count": 10
        }
      ]
    },
    {
      "cell_type": "markdown",
      "source": [
        "###\"Convert a image to a Numpy array or a PyTorch tensor.\"\n",
        "\n",
        "**Why is the conversion necessary?**\n",
        "\n",
        "because everything is represented as a number in a computer."
      ],
      "metadata": {
        "id": "0GpDbKQ4AHMW"
      }
    },
    {
      "cell_type": "code",
      "source": [
        "# get a section of the image\n",
        "# see how it looks like converted to a Numpy array\n",
        "array(im3)[:10, :10]"
      ],
      "metadata": {
        "colab": {
          "base_uri": "https://localhost:8080/"
        },
        "id": "UZxdASQO_bi0",
        "outputId": "9e42cbe1-f57f-4794-d322-8000dba455cb"
      },
      "execution_count": 11,
      "outputs": [
        {
          "output_type": "execute_result",
          "data": {
            "text/plain": [
              "array([[  0,   0,   0,   0,   0,   0,   0,   0,   0,   0],\n",
              "       [  0,   0,   0,   0,   0,   0,   0,   0,   0,   0],\n",
              "       [  0,   0,   0,   0,   0,   0,   0,   0,   0,   0],\n",
              "       [  0,   0,   0,   0,   0,   0,   0,   0,   0,   0],\n",
              "       [  0,   0,   0,   0,   0,   0,   0,   0,   0,   0],\n",
              "       [  0,   0,   0,   0,   0,   0,   0,   0,   0,  29],\n",
              "       [  0,   0,   0,   0,   0,   0,   0,  48, 166, 224],\n",
              "       [  0,   0,   0,   0,   0,  93, 244, 249, 253, 187],\n",
              "       [  0,   0,   0,   0,   0, 107, 253, 253, 230,  48],\n",
              "       [  0,   0,   0,   0,   0,   3,  20,  20,  15,   0]], dtype=uint8)"
            ]
          },
          "metadata": {},
          "execution_count": 11
        }
      ]
    },
    {
      "cell_type": "code",
      "source": [],
      "metadata": {
        "id": "_8laYIgqA_Nj"
      },
      "execution_count": null,
      "outputs": []
    }
  ]
}