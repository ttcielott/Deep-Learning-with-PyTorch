{
  "nbformat": 4,
  "nbformat_minor": 0,
  "metadata": {
    "colab": {
      "provenance": [],
      "toc_visible": true,
      "authorship_tag": "ABX9TyN0NoLjY5I36SgZx5OAkOgm",
      "include_colab_link": true
    },
    "kernelspec": {
      "name": "python3",
      "display_name": "Python 3"
    },
    "language_info": {
      "name": "python"
    }
  },
  "cells": [
    {
      "cell_type": "markdown",
      "metadata": {
        "id": "view-in-github",
        "colab_type": "text"
      },
      "source": [
        "<a href=\"https://colab.research.google.com/github/ttcielott/Deep-Learning-with-PyTorch/blob/main/Chapter4_Under_the_hood.ipynb\" target=\"_parent\"><img src=\"https://colab.research.google.com/assets/colab-badge.svg\" alt=\"Open In Colab\"/></a>"
      ]
    },
    {
      "cell_type": "markdown",
      "source": [
        "# Deep Learning for Coders with Fastai and PyTorch\n",
        "by Jeremy Howard and Sylvain Gugger\n",
        "\n",
        "## Chapter 4. Under the Hood: Training a Digit Classifier\n",
        "\n",
        "This notebook will write a summary of chapter 4 and run the codes for practice. The chapter explains how deep learning works under the hood.\n",
        "The chapter 4 comprises of 9 parts as below.\n",
        "\n",
        "\n",
        "1.   Pixels: The Foundations of Computer Vision\n",
        "2.   First Try: Pixel Simialarity\n",
        "3.   Computing Metrics Using Broadcasting\n",
        "4.   Stochastic Gradient Descent\n",
        "5.   The MNIST Loss Function\n",
        "6.   Putting It All Together\n",
        "7.   Adding Nonlinearity\n",
        "8.   Jargon Recap\n",
        "9.   Questionnaire\n",
        "\n",
        "\n"
      ],
      "metadata": {
        "id": "90bsEF4zxw5D"
      }
    },
    {
      "cell_type": "code",
      "source": [
        "# import fastai library\n",
        "\n",
        "from fastai.vision.all import *\n",
        "import pandas as pd\n",
        "import numpy as np"
      ],
      "metadata": {
        "id": "TOqjCrFv5jBK"
      },
      "execution_count": 56,
      "outputs": []
    },
    {
      "cell_type": "markdown",
      "source": [
        "## 1. Pixels: The Foundations of Computer Vison\n",
        "\n",
        "To understand what happens in a computer vision, we first have to understand how computers handle images.\n",
        "\n",
        "Dataset for this tutorial: MNIST samples\n",
        "\n",
        "**About MNIST dataset** \n",
        "\n",
        "images of handwritten digits, collected by the National Institute of Standards and Technology and collated into a machine learning dataset by Yann Lecun and his colleqgues."
      ],
      "metadata": {
        "id": "9ObAmwME5GJN"
      }
    },
    {
      "cell_type": "code",
      "source": [
        "# download a sample of MNIST\n",
        "path = untar_data(URLs.MNIST_SAMPLE)"
      ],
      "metadata": {
        "id": "C7GUHjiI5LvG",
        "colab": {
          "base_uri": "https://localhost:8080/",
          "height": 37
        },
        "outputId": "e68e1ca4-1bb7-476e-f30d-6b310c4df99b"
      },
      "execution_count": 2,
      "outputs": [
        {
          "output_type": "display_data",
          "data": {
            "text/plain": [
              "<IPython.core.display.HTML object>"
            ],
            "text/html": [
              "\n",
              "<style>\n",
              "    /* Turns off some styling */\n",
              "    progress {\n",
              "        /* gets rid of default border in Firefox and Opera. */\n",
              "        border: none;\n",
              "        /* Needs to be in here for Safari polyfill so background images work as expected. */\n",
              "        background-size: auto;\n",
              "    }\n",
              "    progress:not([value]), progress:not([value])::-webkit-progress-bar {\n",
              "        background: repeating-linear-gradient(45deg, #7e7e7e, #7e7e7e 10px, #5c5c5c 10px, #5c5c5c 20px);\n",
              "    }\n",
              "    .progress-bar-interrupted, .progress-bar-interrupted::-webkit-progress-bar {\n",
              "        background: #F44336;\n",
              "    }\n",
              "</style>\n"
            ]
          },
          "metadata": {}
        },
        {
          "output_type": "display_data",
          "data": {
            "text/plain": [
              "<IPython.core.display.HTML object>"
            ],
            "text/html": [
              "\n",
              "    <div>\n",
              "      <progress value='3219456' class='' max='3214948' style='width:300px; height:20px; vertical-align: middle;'></progress>\n",
              "      100.14% [3219456/3214948 00:00&lt;00:00]\n",
              "    </div>\n",
              "    "
            ]
          },
          "metadata": {}
        }
      ]
    },
    {
      "cell_type": "code",
      "source": [
        "# view what's in this directory by using ls\n",
        "# ls, a method added by fastai\n",
        "# returns an object of a special fastai class called L (similar to Python List)\n",
        "path.ls()"
      ],
      "metadata": {
        "colab": {
          "base_uri": "https://localhost:8080/"
        },
        "id": "M475la4n6FTL",
        "outputId": "cc15e704-075b-4bff-bd56-219f9f01ed32"
      },
      "execution_count": 3,
      "outputs": [
        {
          "output_type": "execute_result",
          "data": {
            "text/plain": [
              "(#3) [Path('/root/.fastai/data/mnist_sample/valid'),Path('/root/.fastai/data/mnist_sample/train'),Path('/root/.fastai/data/mnist_sample/labels.csv')]"
            ]
          },
          "metadata": {},
          "execution_count": 3
        }
      ]
    },
    {
      "cell_type": "markdown",
      "source": [
        "The MNIST dataset follows a common layout for machine learning dataset:\n",
        "\n",
        "*   training set folder\n",
        "*   validation set folder\n",
        "\n"
      ],
      "metadata": {
        "id": "boGguLQb9xzc"
      }
    },
    {
      "cell_type": "code",
      "source": [
        "# view what's inside the training set (folder, train)\n",
        "(path/'train').ls()"
      ],
      "metadata": {
        "colab": {
          "base_uri": "https://localhost:8080/"
        },
        "id": "jYQNstzp9Nx6",
        "outputId": "32f85b44-72c0-4db9-b8c9-457b49c7d8dd"
      },
      "execution_count": 4,
      "outputs": [
        {
          "output_type": "execute_result",
          "data": {
            "text/plain": [
              "(#2) [Path('/root/.fastai/data/mnist_sample/train/7'),Path('/root/.fastai/data/mnist_sample/train/3')]"
            ]
          },
          "metadata": {},
          "execution_count": 4
        }
      ]
    },
    {
      "cell_type": "markdown",
      "source": [
        "There's a folder of 3s and a folder of 7s."
      ],
      "metadata": {
        "id": "W27mLSgY-WzC"
      }
    },
    {
      "cell_type": "code",
      "source": [
        "# look in folders\n",
        "# sort the file to get the same order of files\n",
        "threes = (path/'train'/'3').ls().sorted()\n",
        "sevens = (path/'train'/'7').ls().sorted()\n",
        "threes"
      ],
      "metadata": {
        "colab": {
          "base_uri": "https://localhost:8080/"
        },
        "id": "TMJogpWs-Udm",
        "outputId": "19f44e64-db55-4623-9d21-b2bd651901de"
      },
      "execution_count": 5,
      "outputs": [
        {
          "output_type": "execute_result",
          "data": {
            "text/plain": [
              "(#6131) [Path('/root/.fastai/data/mnist_sample/train/3/10.png'),Path('/root/.fastai/data/mnist_sample/train/3/10000.png'),Path('/root/.fastai/data/mnist_sample/train/3/10011.png'),Path('/root/.fastai/data/mnist_sample/train/3/10031.png'),Path('/root/.fastai/data/mnist_sample/train/3/10034.png'),Path('/root/.fastai/data/mnist_sample/train/3/10042.png'),Path('/root/.fastai/data/mnist_sample/train/3/10052.png'),Path('/root/.fastai/data/mnist_sample/train/3/1007.png'),Path('/root/.fastai/data/mnist_sample/train/3/10074.png'),Path('/root/.fastai/data/mnist_sample/train/3/10091.png')...]"
            ]
          },
          "metadata": {},
          "execution_count": 5
        }
      ]
    },
    {
      "cell_type": "code",
      "source": [
        "# pick one file path\n",
        "im3_path = threes[1]\n",
        "im3_path"
      ],
      "metadata": {
        "colab": {
          "base_uri": "https://localhost:8080/"
        },
        "id": "47y6-vSG-56S",
        "outputId": "0618bede-9b04-4a5a-de0d-5ec364aa5bc6"
      },
      "execution_count": 6,
      "outputs": [
        {
          "output_type": "execute_result",
          "data": {
            "text/plain": [
              "Path('/root/.fastai/data/mnist_sample/train/3/10000.png')"
            ]
          },
          "metadata": {},
          "execution_count": 6
        }
      ]
    },
    {
      "cell_type": "code",
      "source": [
        "# open the file using Image class\n",
        "# Image class is from the Python Image Library, PIL\n",
        "# PIL is for opening, manipulation, and viewing images\n",
        "im3 = Image.open(im3_path)\n",
        "im3"
      ],
      "metadata": {
        "colab": {
          "base_uri": "https://localhost:8080/",
          "height": 45
        },
        "id": "YfFIeD8m_TiW",
        "outputId": "4368d22a-dcf6-4329-e583-5c4f9b8adbd7"
      },
      "execution_count": 7,
      "outputs": [
        {
          "output_type": "execute_result",
          "data": {
            "text/plain": [
              "<PIL.PngImagePlugin.PngImageFile image mode=L size=28x28>"
            ],
            "image/png": "[encoded data removed]"
          },
          "metadata": {},
          "execution_count": 7
        }
      ]
    },
    {
      "cell_type": "markdown",
      "source": [
        "\"Convert a image to a Numpy array or a PyTorch tensor.\"\n",
        "\n",
        "**Why is the conversion necessary?**\n",
        "\n",
        "because everything is represented as a number in a computer."
      ],
      "metadata": {
        "id": "0GpDbKQ4AHMW"
      }
    },
    {
      "cell_type": "code",
      "source": [
        "# get a section of the image\n",
        "# see how it looks like converted to a Numpy array\n",
        "array(im3)[:10, :10]"
      ],
      "metadata": {
        "colab": {
          "base_uri": "https://localhost:8080/"
        },
        "id": "UZxdASQO_bi0",
        "outputId": "cf2f67b8-2972-4b7e-a94c-f78aa04451de"
      },
      "execution_count": 8,
      "outputs": [
        {
          "output_type": "execute_result",
          "data": {
            "text/plain": [
              "array([[  0,   0,   0,   0,   0,   0,   0,   0,   0,   0],\n",
              "       [  0,   0,   0,   0,   0,   0,   0,   0,   0,   0],\n",
              "       [  0,   0,   0,   0,   0,   0,   0,   0,   0,   0],\n",
              "       [  0,   0,   0,   0,   0,   0,   0,   0,   0,   0],\n",
              "       [  0,   0,   0,   0,   0,   0,   0,   0,   0,   0],\n",
              "       [  0,   0,   0,   0,   0,   0,   0,   0,   0,  29],\n",
              "       [  0,   0,   0,   0,   0,   0,   0,  48, 166, 224],\n",
              "       [  0,   0,   0,   0,   0,  93, 244, 249, 253, 187],\n",
              "       [  0,   0,   0,   0,   0, 107, 253, 253, 230,  48],\n",
              "       [  0,   0,   0,   0,   0,   3,  20,  20,  15,   0]], dtype=uint8)"
            ]
          },
          "metadata": {},
          "execution_count": 8
        }
      ]
    },
    {
      "cell_type": "code",
      "source": [
        "# view how the image is created from the pixel values\n",
        "\n",
        "# convert the image to a tensor\n",
        "im3_t = tensor(im3)\n",
        "\n",
        "# convert it to pandas dataframe\n",
        "df = pd.DataFrame(im3_t[5:20, 5:20])\n",
        "df"
      ],
      "metadata": {
        "id": "_8laYIgqA_Nj",
        "colab": {
          "base_uri": "https://localhost:8080/",
          "height": 520
        },
        "outputId": "ee0cfc20-020d-42fc-ea4a-9c61d8f99195"
      },
      "execution_count": 9,
      "outputs": [
        {
          "output_type": "execute_result",
          "data": {
            "text/plain": [
              "     0    1    2    3    4    5    6    7    8    9    10   11   12   13   14\n",
              "0     0    0    0    0   29  150  195  254  255  254  176  193  150   96    0\n",
              "1     0    0   48  166  224  253  253  234  196  253  253  253  253  233    0\n",
              "2    93  244  249  253  187   46   10    8    4   10  194  253  253  233    0\n",
              "3   107  253  253  230   48    0    0    0    0    0  192  253  253  156    0\n",
              "4     3   20   20   15    0    0    0    0    0   43  224  253  245   74    0\n",
              "5     0    0    0    0    0    0    0    0    0  249  253  245  126    0    0\n",
              "6     0    0    0    0    0    0   14  101  223  253  248  124    0    0    0\n",
              "7     0    0    0    0   11  166  239  253  253  253  187   30    0    0    0\n",
              "8     0    0    0    0   16  248  250  253  253  253  253  232  213  111    2\n",
              "9     0    0    0    0    0    0   43   98   98  208  253  253  253  253  187\n",
              "10    0    0    0    0    0    0    0    0    0    9   51  119  253  253  253\n",
              "11    0    0    0    0    0    0    0    0    0    0    0    1  183  253  253\n",
              "12    0    0    0    0    0    0    0    0    0    0    0    0  182  253  253\n",
              "13    0    0    0    0    0    0    0    0    0    0    0   85  249  253  253\n",
              "14    0    0    0    0    0    0    0    0    0    0   60  214  253  253  173"
            ],
            "text/html": [
              "\n",
              "  <div id=\"df-1913be1e-fdec-4769-be8c-be129a2f7830\">\n",
              "    <div class=\"colab-df-container\">\n",
              "      <div>\n",
              "<style scoped>\n",
              "    .dataframe tbody tr th:only-of-type {\n",
              "        vertical-align: middle;\n",
              "    }\n",
              "\n",
              "    .dataframe tbody tr th {\n",
              "        vertical-align: top;\n",
              "    }\n",
              "\n",
              "    .dataframe thead th {\n",
              "        text-align: right;\n",
              "    }\n",
              "</style>\n",
              "<table border=\"1\" class=\"dataframe\">\n",
              "  <thead>\n",
              "    <tr style=\"text-align: right;\">\n",
              "      <th></th>\n",
              "      <th>0</th>\n",
              "      <th>1</th>\n",
              "      <th>2</th>\n",
              "      <th>3</th>\n",
              "      <th>4</th>\n",
              "      <th>5</th>\n",
              "      <th>6</th>\n",
              "      <th>7</th>\n",
              "      <th>8</th>\n",
              "      <th>9</th>\n",
              "      <th>10</th>\n",
              "      <th>11</th>\n",
              "      <th>12</th>\n",
              "      <th>13</th>\n",
              "      <th>14</th>\n",
              "    </tr>\n",
              "  </thead>\n",
              "  <tbody>\n",
              "    <tr>\n",
              "      <th>0</th>\n",
              "      <td>0</td>\n",
              "      <td>0</td>\n",
              "      <td>0</td>\n",
              "      <td>0</td>\n",
              "      <td>29</td>\n",
              "      <td>150</td>\n",
              "      <td>195</td>\n",
              "      <td>254</td>\n",
              "      <td>255</td>\n",
              "      <td>254</td>\n",
              "      <td>176</td>\n",
              "      <td>193</td>\n",
              "      <td>150</td>\n",
              "      <td>96</td>\n",
              "      <td>0</td>\n",
              "    </tr>\n",
              "    <tr>\n",
              "      <th>1</th>\n",
              "      <td>0</td>\n",
              "      <td>0</td>\n",
              "      <td>48</td>\n",
              "      <td>166</td>\n",
              "      <td>224</td>\n",
              "      <td>253</td>\n",
              "      <td>253</td>\n",
              "      <td>234</td>\n",
              "      <td>196</td>\n",
              "      <td>253</td>\n",
              "      <td>253</td>\n",
              "      <td>253</td>\n",
              "      <td>253</td>\n",
              "      <td>233</td>\n",
              "      <td>0</td>\n",
              "    </tr>\n",
              "    <tr>\n",
              "      <th>2</th>\n",
              "      <td>93</td>\n",
              "      <td>244</td>\n",
              "      <td>249</td>\n",
              "      <td>253</td>\n",
              "      <td>187</td>\n",
              "      <td>46</td>\n",
              "      <td>10</td>\n",
              "      <td>8</td>\n",
              "      <td>4</td>\n",
              "      <td>10</td>\n",
              "      <td>194</td>\n",
              "      <td>253</td>\n",
              "      <td>253</td>\n",
              "      <td>233</td>\n",
              "      <td>0</td>\n",
              "    </tr>\n",
              "    <tr>\n",
              "      <th>3</th>\n",
              "      <td>107</td>\n",
              "      <td>253</td>\n",
              "      <td>253</td>\n",
              "      <td>230</td>\n",
              "      <td>48</td>\n",
              "      <td>0</td>\n",
              "      <td>0</td>\n",
              "      <td>0</td>\n",
              "      <td>0</td>\n",
              "      <td>0</td>\n",
              "      <td>192</td>\n",
              "      <td>253</td>\n",
              "      <td>253</td>\n",
              "      <td>156</td>\n",
              "      <td>0</td>\n",
              "    </tr>\n",
              "    <tr>\n",
              "      <th>4</th>\n",
              "      <td>3</td>\n",
              "      <td>20</td>\n",
              "      <td>20</td>\n",
              "      <td>15</td>\n",
              "      <td>0</td>\n",
              "      <td>0</td>\n",
              "      <td>0</td>\n",
              "      <td>0</td>\n",
              "      <td>0</td>\n",
              "      <td>43</td>\n",
              "      <td>224</td>\n",
              "      <td>253</td>\n",
              "      <td>245</td>\n",
              "      <td>74</td>\n",
              "      <td>0</td>\n",
              "    </tr>\n",
              "    <tr>\n",
              "      <th>5</th>\n",
              "      <td>0</td>\n",
              "      <td>0</td>\n",
              "      <td>0</td>\n",
              "      <td>0</td>\n",
              "      <td>0</td>\n",
              "      <td>0</td>\n",
              "      <td>0</td>\n",
              "      <td>0</td>\n",
              "      <td>0</td>\n",
              "      <td>249</td>\n",
              "      <td>253</td>\n",
              "      <td>245</td>\n",
              "      <td>126</td>\n",
              "      <td>0</td>\n",
              "      <td>0</td>\n",
              "    </tr>\n",
              "    <tr>\n",
              "      <th>6</th>\n",
              "      <td>0</td>\n",
              "      <td>0</td>\n",
              "      <td>0</td>\n",
              "      <td>0</td>\n",
              "      <td>0</td>\n",
              "      <td>0</td>\n",
              "      <td>14</td>\n",
              "      <td>101</td>\n",
              "      <td>223</td>\n",
              "      <td>253</td>\n",
              "      <td>248</td>\n",
              "      <td>124</td>\n",
              "      <td>0</td>\n",
              "      <td>0</td>\n",
              "      <td>0</td>\n",
              "    </tr>\n",
              "    <tr>\n",
              "      <th>7</th>\n",
              "      <td>0</td>\n",
              "      <td>0</td>\n",
              "      <td>0</td>\n",
              "      <td>0</td>\n",
              "      <td>11</td>\n",
              "      <td>166</td>\n",
              "      <td>239</td>\n",
              "      <td>253</td>\n",
              "      <td>253</td>\n",
              "      <td>253</td>\n",
              "      <td>187</td>\n",
              "      <td>30</td>\n",
              "      <td>0</td>\n",
              "      <td>0</td>\n",
              "      <td>0</td>\n",
              "    </tr>\n",
              "    <tr>\n",
              "      <th>8</th>\n",
              "      <td>0</td>\n",
              "      <td>0</td>\n",
              "      <td>0</td>\n",
              "      <td>0</td>\n",
              "      <td>16</td>\n",
              "      <td>248</td>\n",
              "      <td>250</td>\n",
              "      <td>253</td>\n",
              "      <td>253</td>\n",
              "      <td>253</td>\n",
              "      <td>253</td>\n",
              "      <td>232</td>\n",
              "      <td>213</td>\n",
              "      <td>111</td>\n",
              "      <td>2</td>\n",
              "    </tr>\n",
              "    <tr>\n",
              "      <th>9</th>\n",
              "      <td>0</td>\n",
              "      <td>0</td>\n",
              "      <td>0</td>\n",
              "      <td>0</td>\n",
              "      <td>0</td>\n",
              "      <td>0</td>\n",
              "      <td>43</td>\n",
              "      <td>98</td>\n",
              "      <td>98</td>\n",
              "      <td>208</td>\n",
              "      <td>253</td>\n",
              "      <td>253</td>\n",
              "      <td>253</td>\n",
              "      <td>253</td>\n",
              "      <td>187</td>\n",
              "    </tr>\n",
              "    <tr>\n",
              "      <th>10</th>\n",
              "      <td>0</td>\n",
              "      <td>0</td>\n",
              "      <td>0</td>\n",
              "      <td>0</td>\n",
              "      <td>0</td>\n",
              "      <td>0</td>\n",
              "      <td>0</td>\n",
              "      <td>0</td>\n",
              "      <td>0</td>\n",
              "      <td>9</td>\n",
              "      <td>51</td>\n",
              "      <td>119</td>\n",
              "      <td>253</td>\n",
              "      <td>253</td>\n",
              "      <td>253</td>\n",
              "    </tr>\n",
              "    <tr>\n",
              "      <th>11</th>\n",
              "      <td>0</td>\n",
              "      <td>0</td>\n",
              "      <td>0</td>\n",
              "      <td>0</td>\n",
              "      <td>0</td>\n",
              "      <td>0</td>\n",
              "      <td>0</td>\n",
              "      <td>0</td>\n",
              "      <td>0</td>\n",
              "      <td>0</td>\n",
              "      <td>0</td>\n",
              "      <td>1</td>\n",
              "      <td>183</td>\n",
              "      <td>253</td>\n",
              "      <td>253</td>\n",
              "    </tr>\n",
              "    <tr>\n",
              "      <th>12</th>\n",
              "      <td>0</td>\n",
              "      <td>0</td>\n",
              "      <td>0</td>\n",
              "      <td>0</td>\n",
              "      <td>0</td>\n",
              "      <td>0</td>\n",
              "      <td>0</td>\n",
              "      <td>0</td>\n",
              "      <td>0</td>\n",
              "      <td>0</td>\n",
              "      <td>0</td>\n",
              "      <td>0</td>\n",
              "      <td>182</td>\n",
              "      <td>253</td>\n",
              "      <td>253</td>\n",
              "    </tr>\n",
              "    <tr>\n",
              "      <th>13</th>\n",
              "      <td>0</td>\n",
              "      <td>0</td>\n",
              "      <td>0</td>\n",
              "      <td>0</td>\n",
              "      <td>0</td>\n",
              "      <td>0</td>\n",
              "      <td>0</td>\n",
              "      <td>0</td>\n",
              "      <td>0</td>\n",
              "      <td>0</td>\n",
              "      <td>0</td>\n",
              "      <td>85</td>\n",
              "      <td>249</td>\n",
              "      <td>253</td>\n",
              "      <td>253</td>\n",
              "    </tr>\n",
              "    <tr>\n",
              "      <th>14</th>\n",
              "      <td>0</td>\n",
              "      <td>0</td>\n",
              "      <td>0</td>\n",
              "      <td>0</td>\n",
              "      <td>0</td>\n",
              "      <td>0</td>\n",
              "      <td>0</td>\n",
              "      <td>0</td>\n",
              "      <td>0</td>\n",
              "      <td>0</td>\n",
              "      <td>60</td>\n",
              "      <td>214</td>\n",
              "      <td>253</td>\n",
              "      <td>253</td>\n",
              "      <td>173</td>\n",
              "    </tr>\n",
              "  </tbody>\n",
              "</table>\n",
              "</div>\n",
              "      <button class=\"colab-df-convert\" onclick=\"convertToInteractive('df-1913be1e-fdec-4769-be8c-be129a2f7830')\"\n",
              "              title=\"Convert this dataframe to an interactive table.\"\n",
              "              style=\"display:none;\">\n",
              "        \n",
              "  <svg xmlns=\"http://www.w3.org/2000/svg\" height=\"24px\"viewBox=\"0 0 24 24\"\n",
              "       width=\"24px\">\n",
              "    <path d=\"M0 0h24v24H0V0z\" fill=\"none\"/>\n",
              "    <path d=\"M18.56 5.44l.94 2.06.94-2.06 2.06-.94-2.06-.94-.94-2.06-.94 2.06-2.06.94zm-11 1L8.5 8.5l.94-2.06 2.06-.94-2.06-.94L8.5 2.5l-.94 2.06-2.06.94zm10 10l.94 2.06.94-2.06 2.06-.94-2.06-.94-.94-2.06-.94 2.06-2.06.94z\"/><path d=\"M17.41 7.96l-1.37-1.37c-.4-.4-.92-.59-1.43-.59-.52 0-1.04.2-1.43.59L10.3 9.45l-7.72 7.72c-.78.78-.78 2.05 0 2.83L4 21.41c.39.39.9.59 1.41.59.51 0 1.02-.2 1.41-.59l7.78-7.78 2.81-2.81c.8-.78.8-2.07 0-2.86zM5.41 20L4 18.59l7.72-7.72 1.47 1.35L5.41 20z\"/>\n",
              "  </svg>\n",
              "      </button>\n",
              "      \n",
              "  <style>\n",
              "    .colab-df-container {\n",
              "      display:flex;\n",
              "      flex-wrap:wrap;\n",
              "      gap: 12px;\n",
              "    }\n",
              "\n",
              "    .colab-df-convert {\n",
              "      background-color: #E8F0FE;\n",
              "      border: none;\n",
              "      border-radius: 50%;\n",
              "      cursor: pointer;\n",
              "      display: none;\n",
              "      fill: #1967D2;\n",
              "      height: 32px;\n",
              "      padding: 0 0 0 0;\n",
              "      width: 32px;\n",
              "    }\n",
              "\n",
              "    .colab-df-convert:hover {\n",
              "      background-color: #E2EBFA;\n",
              "      box-shadow: 0px 1px 2px rgba(60, 64, 67, 0.3), 0px 1px 3px 1px rgba(60, 64, 67, 0.15);\n",
              "      fill: #174EA6;\n",
              "    }\n",
              "\n",
              "    [theme=dark] .colab-df-convert {\n",
              "      background-color: #3B4455;\n",
              "      fill: #D2E3FC;\n",
              "    }\n",
              "\n",
              "    [theme=dark] .colab-df-convert:hover {\n",
              "      background-color: #434B5C;\n",
              "      box-shadow: 0px 1px 3px 1px rgba(0, 0, 0, 0.15);\n",
              "      filter: drop-shadow(0px 1px 2px rgba(0, 0, 0, 0.3));\n",
              "      fill: #FFFFFF;\n",
              "    }\n",
              "  </style>\n",
              "\n",
              "      <script>\n",
              "        const buttonEl =\n",
              "          document.querySelector('#df-1913be1e-fdec-4769-be8c-be129a2f7830 button.colab-df-convert');\n",
              "        buttonEl.style.display =\n",
              "          google.colab.kernel.accessAllowed ? 'block' : 'none';\n",
              "\n",
              "        async function convertToInteractive(key) {\n",
              "          const element = document.querySelector('#df-1913be1e-fdec-4769-be8c-be129a2f7830');\n",
              "          const dataTable =\n",
              "            await google.colab.kernel.invokeFunction('convertToInteractive',\n",
              "                                                     [key], {});\n",
              "          if (!dataTable) return;\n",
              "\n",
              "          const docLinkHtml = 'Like what you see? Visit the ' +\n",
              "            '<a target=\"_blank\" href=https://colab.research.google.com/notebooks/data_table.ipynb>data table notebook</a>'\n",
              "            + ' to learn more about interactive tables.';\n",
              "          element.innerHTML = '';\n",
              "          dataTable['output_type'] = 'display_data';\n",
              "          await google.colab.output.renderOutput(dataTable, element);\n",
              "          const docLink = document.createElement('div');\n",
              "          docLink.innerHTML = docLinkHtml;\n",
              "          element.appendChild(docLink);\n",
              "        }\n",
              "      </script>\n",
              "    </div>\n",
              "  </div>\n",
              "  "
            ]
          },
          "metadata": {},
          "execution_count": 9
        }
      ]
    },
    {
      "cell_type": "code",
      "source": [
        "# color-code the values using a gradient\n",
        "df.style.set_properties(**{'font-size':'6pt'}).background_gradient('Greys')"
      ],
      "metadata": {
        "id": "0THS9LhChV91",
        "colab": {
          "base_uri": "https://localhost:8080/",
          "height": 520
        },
        "outputId": "b5417d69-16a2-4121-a980-b79283a38fa4"
      },
      "execution_count": 10,
      "outputs": [
        {
          "output_type": "execute_result",
          "data": {
            "text/plain": [
              "<pandas.io.formats.style.Styler at 0x7fedfe28f550>"
            ],
            "text/html": [
              "<style type=\"text/css\">\n",
              "#T_2ba9c_row0_col0, #T_2ba9c_row0_col1, #T_2ba9c_row0_col2, #T_2ba9c_row0_col3, #T_2ba9c_row0_col14, #T_2ba9c_row1_col0, #T_2ba9c_row1_col1, #T_2ba9c_row1_col14, #T_2ba9c_row2_col14, #T_2ba9c_row3_col5, #T_2ba9c_row3_col6, #T_2ba9c_row3_col7, #T_2ba9c_row3_col8, #T_2ba9c_row3_col9, #T_2ba9c_row3_col14, #T_2ba9c_row4_col4, #T_2ba9c_row4_col5, #T_2ba9c_row4_col6, #T_2ba9c_row4_col7, #T_2ba9c_row4_col8, #T_2ba9c_row4_col14, #T_2ba9c_row5_col0, #T_2ba9c_row5_col1, #T_2ba9c_row5_col2, #T_2ba9c_row5_col3, #T_2ba9c_row5_col4, #T_2ba9c_row5_col5, #T_2ba9c_row5_col6, #T_2ba9c_row5_col7, #T_2ba9c_row5_col8, #T_2ba9c_row5_col13, #T_2ba9c_row5_col14, #T_2ba9c_row6_col0, #T_2ba9c_row6_col1, #T_2ba9c_row6_col2, #T_2ba9c_row6_col3, #T_2ba9c_row6_col4, #T_2ba9c_row6_col5, #T_2ba9c_row6_col12, #T_2ba9c_row6_col13, #T_2ba9c_row6_col14, #T_2ba9c_row7_col0, #T_2ba9c_row7_col1, #T_2ba9c_row7_col2, #T_2ba9c_row7_col3, #T_2ba9c_row7_col12, #T_2ba9c_row7_col13, #T_2ba9c_row7_col14, #T_2ba9c_row8_col0, #T_2ba9c_row8_col1, #T_2ba9c_row8_col2, #T_2ba9c_row8_col3, #T_2ba9c_row9_col0, #T_2ba9c_row9_col1, #T_2ba9c_row9_col2, #T_2ba9c_row9_col3, #T_2ba9c_row9_col4, #T_2ba9c_row9_col5, #T_2ba9c_row10_col0, #T_2ba9c_row10_col1, #T_2ba9c_row10_col2, #T_2ba9c_row10_col3, #T_2ba9c_row10_col4, #T_2ba9c_row10_col5, #T_2ba9c_row10_col6, #T_2ba9c_row10_col7, #T_2ba9c_row10_col8, #T_2ba9c_row11_col0, #T_2ba9c_row11_col1, #T_2ba9c_row11_col2, #T_2ba9c_row11_col3, #T_2ba9c_row11_col4, #T_2ba9c_row11_col5, #T_2ba9c_row11_col6, #T_2ba9c_row11_col7, #T_2ba9c_row11_col8, #T_2ba9c_row11_col9, #T_2ba9c_row11_col10, #T_2ba9c_row11_col11, #T_2ba9c_row12_col0, #T_2ba9c_row12_col1, #T_2ba9c_row12_col2, #T_2ba9c_row12_col3, #T_2ba9c_row12_col4, #T_2ba9c_row12_col5, #T_2ba9c_row12_col6, #T_2ba9c_row12_col7, #T_2ba9c_row12_col8, #T_2ba9c_row12_col9, #T_2ba9c_row12_col10, #T_2ba9c_row12_col11, #T_2ba9c_row13_col0, #T_2ba9c_row13_col1, #T_2ba9c_row13_col2, #T_2ba9c_row13_col3, #T_2ba9c_row13_col4, #T_2ba9c_row13_col5, #T_2ba9c_row13_col6, #T_2ba9c_row13_col7, #T_2ba9c_row13_col8, #T_2ba9c_row13_col9, #T_2ba9c_row13_col10, #T_2ba9c_row14_col0, #T_2ba9c_row14_col1, #T_2ba9c_row14_col2, #T_2ba9c_row14_col3, #T_2ba9c_row14_col4, #T_2ba9c_row14_col5, #T_2ba9c_row14_col6, #T_2ba9c_row14_col7, #T_2ba9c_row14_col8, #T_2ba9c_row14_col9 {\n",
              "  font-size: 6pt;\n",
              "  background-color: #ffffff;\n",
              "  color: #000000;\n",
              "}\n",
              "#T_2ba9c_row0_col4 {\n",
              "  font-size: 6pt;\n",
              "  background-color: #efefef;\n",
              "  color: #000000;\n",
              "}\n",
              "#T_2ba9c_row0_col5, #T_2ba9c_row0_col12 {\n",
              "  font-size: 6pt;\n",
              "  background-color: #7c7c7c;\n",
              "  color: #f1f1f1;\n",
              "}\n",
              "#T_2ba9c_row0_col6 {\n",
              "  font-size: 6pt;\n",
              "  background-color: #4a4a4a;\n",
              "  color: #f1f1f1;\n",
              "}\n",
              "#T_2ba9c_row0_col7, #T_2ba9c_row0_col8, #T_2ba9c_row0_col9, #T_2ba9c_row1_col4, #T_2ba9c_row1_col5, #T_2ba9c_row1_col6, #T_2ba9c_row1_col10, #T_2ba9c_row1_col11, #T_2ba9c_row1_col12, #T_2ba9c_row2_col3, #T_2ba9c_row2_col11, #T_2ba9c_row2_col12, #T_2ba9c_row3_col0, #T_2ba9c_row3_col1, #T_2ba9c_row3_col2, #T_2ba9c_row3_col11, #T_2ba9c_row3_col12, #T_2ba9c_row4_col11, #T_2ba9c_row5_col10, #T_2ba9c_row8_col10, #T_2ba9c_row9_col10, #T_2ba9c_row9_col11, #T_2ba9c_row9_col12, #T_2ba9c_row9_col13, #T_2ba9c_row10_col12, #T_2ba9c_row10_col13, #T_2ba9c_row10_col14, #T_2ba9c_row11_col13, #T_2ba9c_row11_col14, #T_2ba9c_row12_col13, #T_2ba9c_row12_col14, #T_2ba9c_row13_col13, #T_2ba9c_row13_col14, #T_2ba9c_row14_col12, #T_2ba9c_row14_col13 {\n",
              "  font-size: 6pt;\n",
              "  background-color: #000000;\n",
              "  color: #f1f1f1;\n",
              "}\n",
              "#T_2ba9c_row0_col10 {\n",
              "  font-size: 6pt;\n",
              "  background-color: #606060;\n",
              "  color: #f1f1f1;\n",
              "}\n",
              "#T_2ba9c_row0_col11 {\n",
              "  font-size: 6pt;\n",
              "  background-color: #4d4d4d;\n",
              "  color: #f1f1f1;\n",
              "}\n",
              "#T_2ba9c_row0_col13 {\n",
              "  font-size: 6pt;\n",
              "  background-color: #bbbbbb;\n",
              "  color: #000000;\n",
              "}\n",
              "#T_2ba9c_row1_col2 {\n",
              "  font-size: 6pt;\n",
              "  background-color: #e4e4e4;\n",
              "  color: #000000;\n",
              "}\n",
              "#T_2ba9c_row1_col3, #T_2ba9c_row7_col5 {\n",
              "  font-size: 6pt;\n",
              "  background-color: #6b6b6b;\n",
              "  color: #f1f1f1;\n",
              "}\n",
              "#T_2ba9c_row1_col7, #T_2ba9c_row1_col13, #T_2ba9c_row2_col13 {\n",
              "  font-size: 6pt;\n",
              "  background-color: #171717;\n",
              "  color: #f1f1f1;\n",
              "}\n",
              "#T_2ba9c_row1_col8, #T_2ba9c_row2_col10 {\n",
              "  font-size: 6pt;\n",
              "  background-color: #4b4b4b;\n",
              "  color: #f1f1f1;\n",
              "}\n",
              "#T_2ba9c_row1_col9, #T_2ba9c_row6_col9, #T_2ba9c_row7_col7, #T_2ba9c_row7_col9, #T_2ba9c_row8_col7, #T_2ba9c_row8_col9 {\n",
              "  font-size: 6pt;\n",
              "  background-color: #010101;\n",
              "  color: #f1f1f1;\n",
              "}\n",
              "#T_2ba9c_row2_col0 {\n",
              "  font-size: 6pt;\n",
              "  background-color: #272727;\n",
              "  color: #f1f1f1;\n",
              "}\n",
              "#T_2ba9c_row2_col1 {\n",
              "  font-size: 6pt;\n",
              "  background-color: #0a0a0a;\n",
              "  color: #f1f1f1;\n",
              "}\n",
              "#T_2ba9c_row2_col2, #T_2ba9c_row13_col12 {\n",
              "  font-size: 6pt;\n",
              "  background-color: #050505;\n",
              "  color: #f1f1f1;\n",
              "}\n",
              "#T_2ba9c_row2_col4 {\n",
              "  font-size: 6pt;\n",
              "  background-color: #333333;\n",
              "  color: #f1f1f1;\n",
              "}\n",
              "#T_2ba9c_row2_col5 {\n",
              "  font-size: 6pt;\n",
              "  background-color: #e6e6e6;\n",
              "  color: #000000;\n",
              "}\n",
              "#T_2ba9c_row2_col6, #T_2ba9c_row2_col9 {\n",
              "  font-size: 6pt;\n",
              "  background-color: #fafafa;\n",
              "  color: #000000;\n",
              "}\n",
              "#T_2ba9c_row2_col7, #T_2ba9c_row10_col9 {\n",
              "  font-size: 6pt;\n",
              "  background-color: #fbfbfb;\n",
              "  color: #000000;\n",
              "}\n",
              "#T_2ba9c_row2_col8 {\n",
              "  font-size: 6pt;\n",
              "  background-color: #fdfdfd;\n",
              "  color: #000000;\n",
              "}\n",
              "#T_2ba9c_row3_col3 {\n",
              "  font-size: 6pt;\n",
              "  background-color: #1b1b1b;\n",
              "  color: #f1f1f1;\n",
              "}\n",
              "#T_2ba9c_row3_col4 {\n",
              "  font-size: 6pt;\n",
              "  background-color: #e0e0e0;\n",
              "  color: #000000;\n",
              "}\n",
              "#T_2ba9c_row3_col10 {\n",
              "  font-size: 6pt;\n",
              "  background-color: #4e4e4e;\n",
              "  color: #f1f1f1;\n",
              "}\n",
              "#T_2ba9c_row3_col13 {\n",
              "  font-size: 6pt;\n",
              "  background-color: #767676;\n",
              "  color: #f1f1f1;\n",
              "}\n",
              "#T_2ba9c_row4_col0 {\n",
              "  font-size: 6pt;\n",
              "  background-color: #fcfcfc;\n",
              "  color: #000000;\n",
              "}\n",
              "#T_2ba9c_row4_col1, #T_2ba9c_row4_col2 {\n",
              "  font-size: 6pt;\n",
              "  background-color: #f6f6f6;\n",
              "  color: #000000;\n",
              "}\n",
              "#T_2ba9c_row4_col3, #T_2ba9c_row6_col6 {\n",
              "  font-size: 6pt;\n",
              "  background-color: #f8f8f8;\n",
              "  color: #000000;\n",
              "}\n",
              "#T_2ba9c_row4_col9, #T_2ba9c_row9_col6 {\n",
              "  font-size: 6pt;\n",
              "  background-color: #e8e8e8;\n",
              "  color: #000000;\n",
              "}\n",
              "#T_2ba9c_row4_col10 {\n",
              "  font-size: 6pt;\n",
              "  background-color: #222222;\n",
              "  color: #f1f1f1;\n",
              "}\n",
              "#T_2ba9c_row4_col12, #T_2ba9c_row5_col11 {\n",
              "  font-size: 6pt;\n",
              "  background-color: #090909;\n",
              "  color: #f1f1f1;\n",
              "}\n",
              "#T_2ba9c_row4_col13 {\n",
              "  font-size: 6pt;\n",
              "  background-color: #d0d0d0;\n",
              "  color: #000000;\n",
              "}\n",
              "#T_2ba9c_row5_col9, #T_2ba9c_row6_col10, #T_2ba9c_row8_col5 {\n",
              "  font-size: 6pt;\n",
              "  background-color: #060606;\n",
              "  color: #f1f1f1;\n",
              "}\n",
              "#T_2ba9c_row5_col12 {\n",
              "  font-size: 6pt;\n",
              "  background-color: #979797;\n",
              "  color: #f1f1f1;\n",
              "}\n",
              "#T_2ba9c_row6_col7 {\n",
              "  font-size: 6pt;\n",
              "  background-color: #b6b6b6;\n",
              "  color: #000000;\n",
              "}\n",
              "#T_2ba9c_row6_col8 {\n",
              "  font-size: 6pt;\n",
              "  background-color: #252525;\n",
              "  color: #f1f1f1;\n",
              "}\n",
              "#T_2ba9c_row6_col11 {\n",
              "  font-size: 6pt;\n",
              "  background-color: #999999;\n",
              "  color: #f1f1f1;\n",
              "}\n",
              "#T_2ba9c_row7_col4 {\n",
              "  font-size: 6pt;\n",
              "  background-color: #f9f9f9;\n",
              "  color: #000000;\n",
              "}\n",
              "#T_2ba9c_row7_col6 {\n",
              "  font-size: 6pt;\n",
              "  background-color: #101010;\n",
              "  color: #f1f1f1;\n",
              "}\n",
              "#T_2ba9c_row7_col8, #T_2ba9c_row8_col8 {\n",
              "  font-size: 6pt;\n",
              "  background-color: #020202;\n",
              "  color: #f1f1f1;\n",
              "}\n",
              "#T_2ba9c_row7_col10, #T_2ba9c_row9_col14 {\n",
              "  font-size: 6pt;\n",
              "  background-color: #545454;\n",
              "  color: #f1f1f1;\n",
              "}\n",
              "#T_2ba9c_row7_col11 {\n",
              "  font-size: 6pt;\n",
              "  background-color: #f1f1f1;\n",
              "  color: #000000;\n",
              "}\n",
              "#T_2ba9c_row8_col4 {\n",
              "  font-size: 6pt;\n",
              "  background-color: #f7f7f7;\n",
              "  color: #000000;\n",
              "}\n",
              "#T_2ba9c_row8_col6 {\n",
              "  font-size: 6pt;\n",
              "  background-color: #030303;\n",
              "  color: #f1f1f1;\n",
              "}\n",
              "#T_2ba9c_row8_col11 {\n",
              "  font-size: 6pt;\n",
              "  background-color: #181818;\n",
              "  color: #f1f1f1;\n",
              "}\n",
              "#T_2ba9c_row8_col12 {\n",
              "  font-size: 6pt;\n",
              "  background-color: #303030;\n",
              "  color: #f1f1f1;\n",
              "}\n",
              "#T_2ba9c_row8_col13 {\n",
              "  font-size: 6pt;\n",
              "  background-color: #a9a9a9;\n",
              "  color: #f1f1f1;\n",
              "}\n",
              "#T_2ba9c_row8_col14 {\n",
              "  font-size: 6pt;\n",
              "  background-color: #fefefe;\n",
              "  color: #000000;\n",
              "}\n",
              "#T_2ba9c_row9_col7, #T_2ba9c_row9_col8 {\n",
              "  font-size: 6pt;\n",
              "  background-color: #bababa;\n",
              "  color: #000000;\n",
              "}\n",
              "#T_2ba9c_row9_col9 {\n",
              "  font-size: 6pt;\n",
              "  background-color: #393939;\n",
              "  color: #f1f1f1;\n",
              "}\n",
              "#T_2ba9c_row10_col10 {\n",
              "  font-size: 6pt;\n",
              "  background-color: #e2e2e2;\n",
              "  color: #000000;\n",
              "}\n",
              "#T_2ba9c_row10_col11 {\n",
              "  font-size: 6pt;\n",
              "  background-color: #9f9f9f;\n",
              "  color: #f1f1f1;\n",
              "}\n",
              "#T_2ba9c_row11_col12 {\n",
              "  font-size: 6pt;\n",
              "  background-color: #585858;\n",
              "  color: #f1f1f1;\n",
              "}\n",
              "#T_2ba9c_row12_col12 {\n",
              "  font-size: 6pt;\n",
              "  background-color: #5a5a5a;\n",
              "  color: #f1f1f1;\n",
              "}\n",
              "#T_2ba9c_row13_col11 {\n",
              "  font-size: 6pt;\n",
              "  background-color: #c5c5c5;\n",
              "  color: #000000;\n",
              "}\n",
              "#T_2ba9c_row14_col10 {\n",
              "  font-size: 6pt;\n",
              "  background-color: #dcdcdc;\n",
              "  color: #000000;\n",
              "}\n",
              "#T_2ba9c_row14_col11 {\n",
              "  font-size: 6pt;\n",
              "  background-color: #2f2f2f;\n",
              "  color: #f1f1f1;\n",
              "}\n",
              "#T_2ba9c_row14_col14 {\n",
              "  font-size: 6pt;\n",
              "  background-color: #636363;\n",
              "  color: #f1f1f1;\n",
              "}\n",
              "</style>\n",
              "<table id=\"T_2ba9c_\" class=\"dataframe\">\n",
              "  <thead>\n",
              "    <tr>\n",
              "      <th class=\"blank level0\" >&nbsp;</th>\n",
              "      <th class=\"col_heading level0 col0\" >0</th>\n",
              "      <th class=\"col_heading level0 col1\" >1</th>\n",
              "      <th class=\"col_heading level0 col2\" >2</th>\n",
              "      <th class=\"col_heading level0 col3\" >3</th>\n",
              "      <th class=\"col_heading level0 col4\" >4</th>\n",
              "      <th class=\"col_heading level0 col5\" >5</th>\n",
              "      <th class=\"col_heading level0 col6\" >6</th>\n",
              "      <th class=\"col_heading level0 col7\" >7</th>\n",
              "      <th class=\"col_heading level0 col8\" >8</th>\n",
              "      <th class=\"col_heading level0 col9\" >9</th>\n",
              "      <th class=\"col_heading level0 col10\" >10</th>\n",
              "      <th class=\"col_heading level0 col11\" >11</th>\n",
              "      <th class=\"col_heading level0 col12\" >12</th>\n",
              "      <th class=\"col_heading level0 col13\" >13</th>\n",
              "      <th class=\"col_heading level0 col14\" >14</th>\n",
              "    </tr>\n",
              "  </thead>\n",
              "  <tbody>\n",
              "    <tr>\n",
              "      <th id=\"T_2ba9c_level0_row0\" class=\"row_heading level0 row0\" >0</th>\n",
              "      <td id=\"T_2ba9c_row0_col0\" class=\"data row0 col0\" >0</td>\n",
              "      <td id=\"T_2ba9c_row0_col1\" class=\"data row0 col1\" >0</td>\n",
              "      <td id=\"T_2ba9c_row0_col2\" class=\"data row0 col2\" >0</td>\n",
              "      <td id=\"T_2ba9c_row0_col3\" class=\"data row0 col3\" >0</td>\n",
              "      <td id=\"T_2ba9c_row0_col4\" class=\"data row0 col4\" >29</td>\n",
              "      <td id=\"T_2ba9c_row0_col5\" class=\"data row0 col5\" >150</td>\n",
              "      <td id=\"T_2ba9c_row0_col6\" class=\"data row0 col6\" >195</td>\n",
              "      <td id=\"T_2ba9c_row0_col7\" class=\"data row0 col7\" >254</td>\n",
              "      <td id=\"T_2ba9c_row0_col8\" class=\"data row0 col8\" >255</td>\n",
              "      <td id=\"T_2ba9c_row0_col9\" class=\"data row0 col9\" >254</td>\n",
              "      <td id=\"T_2ba9c_row0_col10\" class=\"data row0 col10\" >176</td>\n",
              "      <td id=\"T_2ba9c_row0_col11\" class=\"data row0 col11\" >193</td>\n",
              "      <td id=\"T_2ba9c_row0_col12\" class=\"data row0 col12\" >150</td>\n",
              "      <td id=\"T_2ba9c_row0_col13\" class=\"data row0 col13\" >96</td>\n",
              "      <td id=\"T_2ba9c_row0_col14\" class=\"data row0 col14\" >0</td>\n",
              "    </tr>\n",
              "    <tr>\n",
              "      <th id=\"T_2ba9c_level0_row1\" class=\"row_heading level0 row1\" >1</th>\n",
              "      <td id=\"T_2ba9c_row1_col0\" class=\"data row1 col0\" >0</td>\n",
              "      <td id=\"T_2ba9c_row1_col1\" class=\"data row1 col1\" >0</td>\n",
              "      <td id=\"T_2ba9c_row1_col2\" class=\"data row1 col2\" >48</td>\n",
              "      <td id=\"T_2ba9c_row1_col3\" class=\"data row1 col3\" >166</td>\n",
              "      <td id=\"T_2ba9c_row1_col4\" class=\"data row1 col4\" >224</td>\n",
              "      <td id=\"T_2ba9c_row1_col5\" class=\"data row1 col5\" >253</td>\n",
              "      <td id=\"T_2ba9c_row1_col6\" class=\"data row1 col6\" >253</td>\n",
              "      <td id=\"T_2ba9c_row1_col7\" class=\"data row1 col7\" >234</td>\n",
              "      <td id=\"T_2ba9c_row1_col8\" class=\"data row1 col8\" >196</td>\n",
              "      <td id=\"T_2ba9c_row1_col9\" class=\"data row1 col9\" >253</td>\n",
              "      <td id=\"T_2ba9c_row1_col10\" class=\"data row1 col10\" >253</td>\n",
              "      <td id=\"T_2ba9c_row1_col11\" class=\"data row1 col11\" >253</td>\n",
              "      <td id=\"T_2ba9c_row1_col12\" class=\"data row1 col12\" >253</td>\n",
              "      <td id=\"T_2ba9c_row1_col13\" class=\"data row1 col13\" >233</td>\n",
              "      <td id=\"T_2ba9c_row1_col14\" class=\"data row1 col14\" >0</td>\n",
              "    </tr>\n",
              "    <tr>\n",
              "      <th id=\"T_2ba9c_level0_row2\" class=\"row_heading level0 row2\" >2</th>\n",
              "      <td id=\"T_2ba9c_row2_col0\" class=\"data row2 col0\" >93</td>\n",
              "      <td id=\"T_2ba9c_row2_col1\" class=\"data row2 col1\" >244</td>\n",
              "      <td id=\"T_2ba9c_row2_col2\" class=\"data row2 col2\" >249</td>\n",
              "      <td id=\"T_2ba9c_row2_col3\" class=\"data row2 col3\" >253</td>\n",
              "      <td id=\"T_2ba9c_row2_col4\" class=\"data row2 col4\" >187</td>\n",
              "      <td id=\"T_2ba9c_row2_col5\" class=\"data row2 col5\" >46</td>\n",
              "      <td id=\"T_2ba9c_row2_col6\" class=\"data row2 col6\" >10</td>\n",
              "      <td id=\"T_2ba9c_row2_col7\" class=\"data row2 col7\" >8</td>\n",
              "      <td id=\"T_2ba9c_row2_col8\" class=\"data row2 col8\" >4</td>\n",
              "      <td id=\"T_2ba9c_row2_col9\" class=\"data row2 col9\" >10</td>\n",
              "      <td id=\"T_2ba9c_row2_col10\" class=\"data row2 col10\" >194</td>\n",
              "      <td id=\"T_2ba9c_row2_col11\" class=\"data row2 col11\" >253</td>\n",
              "      <td id=\"T_2ba9c_row2_col12\" class=\"data row2 col12\" >253</td>\n",
              "      <td id=\"T_2ba9c_row2_col13\" class=\"data row2 col13\" >233</td>\n",
              "      <td id=\"T_2ba9c_row2_col14\" class=\"data row2 col14\" >0</td>\n",
              "    </tr>\n",
              "    <tr>\n",
              "      <th id=\"T_2ba9c_level0_row3\" class=\"row_heading level0 row3\" >3</th>\n",
              "      <td id=\"T_2ba9c_row3_col0\" class=\"data row3 col0\" >107</td>\n",
              "      <td id=\"T_2ba9c_row3_col1\" class=\"data row3 col1\" >253</td>\n",
              "      <td id=\"T_2ba9c_row3_col2\" class=\"data row3 col2\" >253</td>\n",
              "      <td id=\"T_2ba9c_row3_col3\" class=\"data row3 col3\" >230</td>\n",
              "      <td id=\"T_2ba9c_row3_col4\" class=\"data row3 col4\" >48</td>\n",
              "      <td id=\"T_2ba9c_row3_col5\" class=\"data row3 col5\" >0</td>\n",
              "      <td id=\"T_2ba9c_row3_col6\" class=\"data row3 col6\" >0</td>\n",
              "      <td id=\"T_2ba9c_row3_col7\" class=\"data row3 col7\" >0</td>\n",
              "      <td id=\"T_2ba9c_row3_col8\" class=\"data row3 col8\" >0</td>\n",
              "      <td id=\"T_2ba9c_row3_col9\" class=\"data row3 col9\" >0</td>\n",
              "      <td id=\"T_2ba9c_row3_col10\" class=\"data row3 col10\" >192</td>\n",
              "      <td id=\"T_2ba9c_row3_col11\" class=\"data row3 col11\" >253</td>\n",
              "      <td id=\"T_2ba9c_row3_col12\" class=\"data row3 col12\" >253</td>\n",
              "      <td id=\"T_2ba9c_row3_col13\" class=\"data row3 col13\" >156</td>\n",
              "      <td id=\"T_2ba9c_row3_col14\" class=\"data row3 col14\" >0</td>\n",
              "    </tr>\n",
              "    <tr>\n",
              "      <th id=\"T_2ba9c_level0_row4\" class=\"row_heading level0 row4\" >4</th>\n",
              "      <td id=\"T_2ba9c_row4_col0\" class=\"data row4 col0\" >3</td>\n",
              "      <td id=\"T_2ba9c_row4_col1\" class=\"data row4 col1\" >20</td>\n",
              "      <td id=\"T_2ba9c_row4_col2\" class=\"data row4 col2\" >20</td>\n",
              "      <td id=\"T_2ba9c_row4_col3\" class=\"data row4 col3\" >15</td>\n",
              "      <td id=\"T_2ba9c_row4_col4\" class=\"data row4 col4\" >0</td>\n",
              "      <td id=\"T_2ba9c_row4_col5\" class=\"data row4 col5\" >0</td>\n",
              "      <td id=\"T_2ba9c_row4_col6\" class=\"data row4 col6\" >0</td>\n",
              "      <td id=\"T_2ba9c_row4_col7\" class=\"data row4 col7\" >0</td>\n",
              "      <td id=\"T_2ba9c_row4_col8\" class=\"data row4 col8\" >0</td>\n",
              "      <td id=\"T_2ba9c_row4_col9\" class=\"data row4 col9\" >43</td>\n",
              "      <td id=\"T_2ba9c_row4_col10\" class=\"data row4 col10\" >224</td>\n",
              "      <td id=\"T_2ba9c_row4_col11\" class=\"data row4 col11\" >253</td>\n",
              "      <td id=\"T_2ba9c_row4_col12\" class=\"data row4 col12\" >245</td>\n",
              "      <td id=\"T_2ba9c_row4_col13\" class=\"data row4 col13\" >74</td>\n",
              "      <td id=\"T_2ba9c_row4_col14\" class=\"data row4 col14\" >0</td>\n",
              "    </tr>\n",
              "    <tr>\n",
              "      <th id=\"T_2ba9c_level0_row5\" class=\"row_heading level0 row5\" >5</th>\n",
              "      <td id=\"T_2ba9c_row5_col0\" class=\"data row5 col0\" >0</td>\n",
              "      <td id=\"T_2ba9c_row5_col1\" class=\"data row5 col1\" >0</td>\n",
              "      <td id=\"T_2ba9c_row5_col2\" class=\"data row5 col2\" >0</td>\n",
              "      <td id=\"T_2ba9c_row5_col3\" class=\"data row5 col3\" >0</td>\n",
              "      <td id=\"T_2ba9c_row5_col4\" class=\"data row5 col4\" >0</td>\n",
              "      <td id=\"T_2ba9c_row5_col5\" class=\"data row5 col5\" >0</td>\n",
              "      <td id=\"T_2ba9c_row5_col6\" class=\"data row5 col6\" >0</td>\n",
              "      <td id=\"T_2ba9c_row5_col7\" class=\"data row5 col7\" >0</td>\n",
              "      <td id=\"T_2ba9c_row5_col8\" class=\"data row5 col8\" >0</td>\n",
              "      <td id=\"T_2ba9c_row5_col9\" class=\"data row5 col9\" >249</td>\n",
              "      <td id=\"T_2ba9c_row5_col10\" class=\"data row5 col10\" >253</td>\n",
              "      <td id=\"T_2ba9c_row5_col11\" class=\"data row5 col11\" >245</td>\n",
              "      <td id=\"T_2ba9c_row5_col12\" class=\"data row5 col12\" >126</td>\n",
              "      <td id=\"T_2ba9c_row5_col13\" class=\"data row5 col13\" >0</td>\n",
              "      <td id=\"T_2ba9c_row5_col14\" class=\"data row5 col14\" >0</td>\n",
              "    </tr>\n",
              "    <tr>\n",
              "      <th id=\"T_2ba9c_level0_row6\" class=\"row_heading level0 row6\" >6</th>\n",
              "      <td id=\"T_2ba9c_row6_col0\" class=\"data row6 col0\" >0</td>\n",
              "      <td id=\"T_2ba9c_row6_col1\" class=\"data row6 col1\" >0</td>\n",
              "      <td id=\"T_2ba9c_row6_col2\" class=\"data row6 col2\" >0</td>\n",
              "      <td id=\"T_2ba9c_row6_col3\" class=\"data row6 col3\" >0</td>\n",
              "      <td id=\"T_2ba9c_row6_col4\" class=\"data row6 col4\" >0</td>\n",
              "      <td id=\"T_2ba9c_row6_col5\" class=\"data row6 col5\" >0</td>\n",
              "      <td id=\"T_2ba9c_row6_col6\" class=\"data row6 col6\" >14</td>\n",
              "      <td id=\"T_2ba9c_row6_col7\" class=\"data row6 col7\" >101</td>\n",
              "      <td id=\"T_2ba9c_row6_col8\" class=\"data row6 col8\" >223</td>\n",
              "      <td id=\"T_2ba9c_row6_col9\" class=\"data row6 col9\" >253</td>\n",
              "      <td id=\"T_2ba9c_row6_col10\" class=\"data row6 col10\" >248</td>\n",
              "      <td id=\"T_2ba9c_row6_col11\" class=\"data row6 col11\" >124</td>\n",
              "      <td id=\"T_2ba9c_row6_col12\" class=\"data row6 col12\" >0</td>\n",
              "      <td id=\"T_2ba9c_row6_col13\" class=\"data row6 col13\" >0</td>\n",
              "      <td id=\"T_2ba9c_row6_col14\" class=\"data row6 col14\" >0</td>\n",
              "    </tr>\n",
              "    <tr>\n",
              "      <th id=\"T_2ba9c_level0_row7\" class=\"row_heading level0 row7\" >7</th>\n",
              "      <td id=\"T_2ba9c_row7_col0\" class=\"data row7 col0\" >0</td>\n",
              "      <td id=\"T_2ba9c_row7_col1\" class=\"data row7 col1\" >0</td>\n",
              "      <td id=\"T_2ba9c_row7_col2\" class=\"data row7 col2\" >0</td>\n",
              "      <td id=\"T_2ba9c_row7_col3\" class=\"data row7 col3\" >0</td>\n",
              "      <td id=\"T_2ba9c_row7_col4\" class=\"data row7 col4\" >11</td>\n",
              "      <td id=\"T_2ba9c_row7_col5\" class=\"data row7 col5\" >166</td>\n",
              "      <td id=\"T_2ba9c_row7_col6\" class=\"data row7 col6\" >239</td>\n",
              "      <td id=\"T_2ba9c_row7_col7\" class=\"data row7 col7\" >253</td>\n",
              "      <td id=\"T_2ba9c_row7_col8\" class=\"data row7 col8\" >253</td>\n",
              "      <td id=\"T_2ba9c_row7_col9\" class=\"data row7 col9\" >253</td>\n",
              "      <td id=\"T_2ba9c_row7_col10\" class=\"data row7 col10\" >187</td>\n",
              "      <td id=\"T_2ba9c_row7_col11\" class=\"data row7 col11\" >30</td>\n",
              "      <td id=\"T_2ba9c_row7_col12\" class=\"data row7 col12\" >0</td>\n",
              "      <td id=\"T_2ba9c_row7_col13\" class=\"data row7 col13\" >0</td>\n",
              "      <td id=\"T_2ba9c_row7_col14\" class=\"data row7 col14\" >0</td>\n",
              "    </tr>\n",
              "    <tr>\n",
              "      <th id=\"T_2ba9c_level0_row8\" class=\"row_heading level0 row8\" >8</th>\n",
              "      <td id=\"T_2ba9c_row8_col0\" class=\"data row8 col0\" >0</td>\n",
              "      <td id=\"T_2ba9c_row8_col1\" class=\"data row8 col1\" >0</td>\n",
              "      <td id=\"T_2ba9c_row8_col2\" class=\"data row8 col2\" >0</td>\n",
              "      <td id=\"T_2ba9c_row8_col3\" class=\"data row8 col3\" >0</td>\n",
              "      <td id=\"T_2ba9c_row8_col4\" class=\"data row8 col4\" >16</td>\n",
              "      <td id=\"T_2ba9c_row8_col5\" class=\"data row8 col5\" >248</td>\n",
              "      <td id=\"T_2ba9c_row8_col6\" class=\"data row8 col6\" >250</td>\n",
              "      <td id=\"T_2ba9c_row8_col7\" class=\"data row8 col7\" >253</td>\n",
              "      <td id=\"T_2ba9c_row8_col8\" class=\"data row8 col8\" >253</td>\n",
              "      <td id=\"T_2ba9c_row8_col9\" class=\"data row8 col9\" >253</td>\n",
              "      <td id=\"T_2ba9c_row8_col10\" class=\"data row8 col10\" >253</td>\n",
              "      <td id=\"T_2ba9c_row8_col11\" class=\"data row8 col11\" >232</td>\n",
              "      <td id=\"T_2ba9c_row8_col12\" class=\"data row8 col12\" >213</td>\n",
              "      <td id=\"T_2ba9c_row8_col13\" class=\"data row8 col13\" >111</td>\n",
              "      <td id=\"T_2ba9c_row8_col14\" class=\"data row8 col14\" >2</td>\n",
              "    </tr>\n",
              "    <tr>\n",
              "      <th id=\"T_2ba9c_level0_row9\" class=\"row_heading level0 row9\" >9</th>\n",
              "      <td id=\"T_2ba9c_row9_col0\" class=\"data row9 col0\" >0</td>\n",
              "      <td id=\"T_2ba9c_row9_col1\" class=\"data row9 col1\" >0</td>\n",
              "      <td id=\"T_2ba9c_row9_col2\" class=\"data row9 col2\" >0</td>\n",
              "      <td id=\"T_2ba9c_row9_col3\" class=\"data row9 col3\" >0</td>\n",
              "      <td id=\"T_2ba9c_row9_col4\" class=\"data row9 col4\" >0</td>\n",
              "      <td id=\"T_2ba9c_row9_col5\" class=\"data row9 col5\" >0</td>\n",
              "      <td id=\"T_2ba9c_row9_col6\" class=\"data row9 col6\" >43</td>\n",
              "      <td id=\"T_2ba9c_row9_col7\" class=\"data row9 col7\" >98</td>\n",
              "      <td id=\"T_2ba9c_row9_col8\" class=\"data row9 col8\" >98</td>\n",
              "      <td id=\"T_2ba9c_row9_col9\" class=\"data row9 col9\" >208</td>\n",
              "      <td id=\"T_2ba9c_row9_col10\" class=\"data row9 col10\" >253</td>\n",
              "      <td id=\"T_2ba9c_row9_col11\" class=\"data row9 col11\" >253</td>\n",
              "      <td id=\"T_2ba9c_row9_col12\" class=\"data row9 col12\" >253</td>\n",
              "      <td id=\"T_2ba9c_row9_col13\" class=\"data row9 col13\" >253</td>\n",
              "      <td id=\"T_2ba9c_row9_col14\" class=\"data row9 col14\" >187</td>\n",
              "    </tr>\n",
              "    <tr>\n",
              "      <th id=\"T_2ba9c_level0_row10\" class=\"row_heading level0 row10\" >10</th>\n",
              "      <td id=\"T_2ba9c_row10_col0\" class=\"data row10 col0\" >0</td>\n",
              "      <td id=\"T_2ba9c_row10_col1\" class=\"data row10 col1\" >0</td>\n",
              "      <td id=\"T_2ba9c_row10_col2\" class=\"data row10 col2\" >0</td>\n",
              "      <td id=\"T_2ba9c_row10_col3\" class=\"data row10 col3\" >0</td>\n",
              "      <td id=\"T_2ba9c_row10_col4\" class=\"data row10 col4\" >0</td>\n",
              "      <td id=\"T_2ba9c_row10_col5\" class=\"data row10 col5\" >0</td>\n",
              "      <td id=\"T_2ba9c_row10_col6\" class=\"data row10 col6\" >0</td>\n",
              "      <td id=\"T_2ba9c_row10_col7\" class=\"data row10 col7\" >0</td>\n",
              "      <td id=\"T_2ba9c_row10_col8\" class=\"data row10 col8\" >0</td>\n",
              "      <td id=\"T_2ba9c_row10_col9\" class=\"data row10 col9\" >9</td>\n",
              "      <td id=\"T_2ba9c_row10_col10\" class=\"data row10 col10\" >51</td>\n",
              "      <td id=\"T_2ba9c_row10_col11\" class=\"data row10 col11\" >119</td>\n",
              "      <td id=\"T_2ba9c_row10_col12\" class=\"data row10 col12\" >253</td>\n",
              "      <td id=\"T_2ba9c_row10_col13\" class=\"data row10 col13\" >253</td>\n",
              "      <td id=\"T_2ba9c_row10_col14\" class=\"data row10 col14\" >253</td>\n",
              "    </tr>\n",
              "    <tr>\n",
              "      <th id=\"T_2ba9c_level0_row11\" class=\"row_heading level0 row11\" >11</th>\n",
              "      <td id=\"T_2ba9c_row11_col0\" class=\"data row11 col0\" >0</td>\n",
              "      <td id=\"T_2ba9c_row11_col1\" class=\"data row11 col1\" >0</td>\n",
              "      <td id=\"T_2ba9c_row11_col2\" class=\"data row11 col2\" >0</td>\n",
              "      <td id=\"T_2ba9c_row11_col3\" class=\"data row11 col3\" >0</td>\n",
              "      <td id=\"T_2ba9c_row11_col4\" class=\"data row11 col4\" >0</td>\n",
              "      <td id=\"T_2ba9c_row11_col5\" class=\"data row11 col5\" >0</td>\n",
              "      <td id=\"T_2ba9c_row11_col6\" class=\"data row11 col6\" >0</td>\n",
              "      <td id=\"T_2ba9c_row11_col7\" class=\"data row11 col7\" >0</td>\n",
              "      <td id=\"T_2ba9c_row11_col8\" class=\"data row11 col8\" >0</td>\n",
              "      <td id=\"T_2ba9c_row11_col9\" class=\"data row11 col9\" >0</td>\n",
              "      <td id=\"T_2ba9c_row11_col10\" class=\"data row11 col10\" >0</td>\n",
              "      <td id=\"T_2ba9c_row11_col11\" class=\"data row11 col11\" >1</td>\n",
              "      <td id=\"T_2ba9c_row11_col12\" class=\"data row11 col12\" >183</td>\n",
              "      <td id=\"T_2ba9c_row11_col13\" class=\"data row11 col13\" >253</td>\n",
              "      <td id=\"T_2ba9c_row11_col14\" class=\"data row11 col14\" >253</td>\n",
              "    </tr>\n",
              "    <tr>\n",
              "      <th id=\"T_2ba9c_level0_row12\" class=\"row_heading level0 row12\" >12</th>\n",
              "      <td id=\"T_2ba9c_row12_col0\" class=\"data row12 col0\" >0</td>\n",
              "      <td id=\"T_2ba9c_row12_col1\" class=\"data row12 col1\" >0</td>\n",
              "      <td id=\"T_2ba9c_row12_col2\" class=\"data row12 col2\" >0</td>\n",
              "      <td id=\"T_2ba9c_row12_col3\" class=\"data row12 col3\" >0</td>\n",
              "      <td id=\"T_2ba9c_row12_col4\" class=\"data row12 col4\" >0</td>\n",
              "      <td id=\"T_2ba9c_row12_col5\" class=\"data row12 col5\" >0</td>\n",
              "      <td id=\"T_2ba9c_row12_col6\" class=\"data row12 col6\" >0</td>\n",
              "      <td id=\"T_2ba9c_row12_col7\" class=\"data row12 col7\" >0</td>\n",
              "      <td id=\"T_2ba9c_row12_col8\" class=\"data row12 col8\" >0</td>\n",
              "      <td id=\"T_2ba9c_row12_col9\" class=\"data row12 col9\" >0</td>\n",
              "      <td id=\"T_2ba9c_row12_col10\" class=\"data row12 col10\" >0</td>\n",
              "      <td id=\"T_2ba9c_row12_col11\" class=\"data row12 col11\" >0</td>\n",
              "      <td id=\"T_2ba9c_row12_col12\" class=\"data row12 col12\" >182</td>\n",
              "      <td id=\"T_2ba9c_row12_col13\" class=\"data row12 col13\" >253</td>\n",
              "      <td id=\"T_2ba9c_row12_col14\" class=\"data row12 col14\" >253</td>\n",
              "    </tr>\n",
              "    <tr>\n",
              "      <th id=\"T_2ba9c_level0_row13\" class=\"row_heading level0 row13\" >13</th>\n",
              "      <td id=\"T_2ba9c_row13_col0\" class=\"data row13 col0\" >0</td>\n",
              "      <td id=\"T_2ba9c_row13_col1\" class=\"data row13 col1\" >0</td>\n",
              "      <td id=\"T_2ba9c_row13_col2\" class=\"data row13 col2\" >0</td>\n",
              "      <td id=\"T_2ba9c_row13_col3\" class=\"data row13 col3\" >0</td>\n",
              "      <td id=\"T_2ba9c_row13_col4\" class=\"data row13 col4\" >0</td>\n",
              "      <td id=\"T_2ba9c_row13_col5\" class=\"data row13 col5\" >0</td>\n",
              "      <td id=\"T_2ba9c_row13_col6\" class=\"data row13 col6\" >0</td>\n",
              "      <td id=\"T_2ba9c_row13_col7\" class=\"data row13 col7\" >0</td>\n",
              "      <td id=\"T_2ba9c_row13_col8\" class=\"data row13 col8\" >0</td>\n",
              "      <td id=\"T_2ba9c_row13_col9\" class=\"data row13 col9\" >0</td>\n",
              "      <td id=\"T_2ba9c_row13_col10\" class=\"data row13 col10\" >0</td>\n",
              "      <td id=\"T_2ba9c_row13_col11\" class=\"data row13 col11\" >85</td>\n",
              "      <td id=\"T_2ba9c_row13_col12\" class=\"data row13 col12\" >249</td>\n",
              "      <td id=\"T_2ba9c_row13_col13\" class=\"data row13 col13\" >253</td>\n",
              "      <td id=\"T_2ba9c_row13_col14\" class=\"data row13 col14\" >253</td>\n",
              "    </tr>\n",
              "    <tr>\n",
              "      <th id=\"T_2ba9c_level0_row14\" class=\"row_heading level0 row14\" >14</th>\n",
              "      <td id=\"T_2ba9c_row14_col0\" class=\"data row14 col0\" >0</td>\n",
              "      <td id=\"T_2ba9c_row14_col1\" class=\"data row14 col1\" >0</td>\n",
              "      <td id=\"T_2ba9c_row14_col2\" class=\"data row14 col2\" >0</td>\n",
              "      <td id=\"T_2ba9c_row14_col3\" class=\"data row14 col3\" >0</td>\n",
              "      <td id=\"T_2ba9c_row14_col4\" class=\"data row14 col4\" >0</td>\n",
              "      <td id=\"T_2ba9c_row14_col5\" class=\"data row14 col5\" >0</td>\n",
              "      <td id=\"T_2ba9c_row14_col6\" class=\"data row14 col6\" >0</td>\n",
              "      <td id=\"T_2ba9c_row14_col7\" class=\"data row14 col7\" >0</td>\n",
              "      <td id=\"T_2ba9c_row14_col8\" class=\"data row14 col8\" >0</td>\n",
              "      <td id=\"T_2ba9c_row14_col9\" class=\"data row14 col9\" >0</td>\n",
              "      <td id=\"T_2ba9c_row14_col10\" class=\"data row14 col10\" >60</td>\n",
              "      <td id=\"T_2ba9c_row14_col11\" class=\"data row14 col11\" >214</td>\n",
              "      <td id=\"T_2ba9c_row14_col12\" class=\"data row14 col12\" >253</td>\n",
              "      <td id=\"T_2ba9c_row14_col13\" class=\"data row14 col13\" >253</td>\n",
              "      <td id=\"T_2ba9c_row14_col14\" class=\"data row14 col14\" >173</td>\n",
              "    </tr>\n",
              "  </tbody>\n",
              "</table>\n"
            ]
          },
          "metadata": {},
          "execution_count": 10
        }
      ]
    },
    {
      "cell_type": "markdown",
      "source": [
        "*   the number 0 : white\n",
        "*   the number 255 : black\n",
        "*   0 ~ 255 : grey shades\n",
        "\n",
        "\n",
        "**Our goal: create a model that can recognize 3s and 7s.** How can you do it?\n",
        "\n",
        "\n"
      ],
      "metadata": {
        "id": "-zIYObbHnoyg"
      }
    },
    {
      "cell_type": "markdown",
      "source": [
        "## 2.   First Try: Pixel Simialarity\n",
        "\n",
        "1.   find the average pixel value for every pixel of the 3s.\n",
        "2.   do the same for the 7s.\n",
        "2.   see of which these two ideal digits the image is most similar to.\n",
        "\n"
      ],
      "metadata": {
        "id": "SGABGrwpowyY"
      }
    },
    {
      "cell_type": "code",
      "source": [
        "# we already have a variable of L object, a list of paths of the image 3s\n",
        "threes"
      ],
      "metadata": {
        "colab": {
          "base_uri": "https://localhost:8080/"
        },
        "id": "dtPS_iuUqzY5",
        "outputId": "bd3d204d-37c7-4e9b-83cc-934692612838"
      },
      "execution_count": 11,
      "outputs": [
        {
          "output_type": "execute_result",
          "data": {
            "text/plain": [
              "(#6131) [Path('/root/.fastai/data/mnist_sample/train/3/10.png'),Path('/root/.fastai/data/mnist_sample/train/3/10000.png'),Path('/root/.fastai/data/mnist_sample/train/3/10011.png'),Path('/root/.fastai/data/mnist_sample/train/3/10031.png'),Path('/root/.fastai/data/mnist_sample/train/3/10034.png'),Path('/root/.fastai/data/mnist_sample/train/3/10042.png'),Path('/root/.fastai/data/mnist_sample/train/3/10052.png'),Path('/root/.fastai/data/mnist_sample/train/3/1007.png'),Path('/root/.fastai/data/mnist_sample/train/3/10074.png'),Path('/root/.fastai/data/mnist_sample/train/3/10091.png')...]"
            ]
          },
          "metadata": {},
          "execution_count": 11
        }
      ]
    },
    {
      "cell_type": "code",
      "source": [
        "# create a tensor containing all of our 3s stacked together\n",
        "# using Python List Comprehension\n",
        "three_tensors = [tensor(Image.open(o)) for o in threes]"
      ],
      "metadata": {
        "id": "D75rNW0BnaIB"
      },
      "execution_count": 12,
      "outputs": []
    },
    {
      "cell_type": "markdown",
      "source": [
        "Reminder : How to Convert an Image file to a Tensor\n",
        "\n",
        "1. read the image file with Image.open.\n",
        "2. convert it to a tensor.\n",
        "\n",
        "\n",
        "> tensor(Image.open(image file path))\n",
        "\n"
      ],
      "metadata": {
        "id": "omUi3hHerY7S"
      }
    },
    {
      "cell_type": "code",
      "source": [
        "# do the same for 7s\n",
        "seven_tensors = [tensor(Image.open(o)) for o in sevens]"
      ],
      "metadata": {
        "id": "l_snVMykr1TC"
      },
      "execution_count": 13,
      "outputs": []
    },
    {
      "cell_type": "code",
      "source": [
        "# check the length of list\n",
        "len(three_tensors), len(seven_tensors)"
      ],
      "metadata": {
        "colab": {
          "base_uri": "https://localhost:8080/"
        },
        "id": "KNVAK0C8r9fu",
        "outputId": "bc8f27a4-f7d7-44d4-efb3-23d5a35a5394"
      },
      "execution_count": 14,
      "outputs": [
        {
          "output_type": "execute_result",
          "data": {
            "text/plain": [
              "(6131, 6265)"
            ]
          },
          "metadata": {},
          "execution_count": 14
        }
      ]
    },
    {
      "cell_type": "code",
      "source": [
        "# display a tensor as a image using fastai's show_image function\n",
        "show_image(seven_tensors[10])"
      ],
      "metadata": {
        "colab": {
          "base_uri": "https://localhost:8080/",
          "height": 103
        },
        "id": "IB-WdWtksba5",
        "outputId": "c8165fcc-1439-4ec3-8f19-e01ca168ff31"
      },
      "execution_count": 15,
      "outputs": [
        {
          "output_type": "execute_result",
          "data": {
            "text/plain": [
              "<matplotlib.axes._subplots.AxesSubplot at 0x7fedfe1616d0>"
            ]
          },
          "metadata": {},
          "execution_count": 15
        },
        {
          "output_type": "display_data",
          "data": {
            "text/plain": [
              "<Figure size 72x72 with 1 Axes>"
            ],
            "image/png": "[encoded data removed]"
          },
          "metadata": {
            "needs_background": "light"
          }
        }
      ]
    },
    {
      "cell_type": "code",
      "source": [
        "# compute the average over all the images of the intensity of that pixel\n",
        "\n",
        "# combine all the images in the list into a single 3-dimensional tensor (rank-3 tensor)\n",
        "torch.stack(three_tensors).shape"
      ],
      "metadata": {
        "colab": {
          "base_uri": "https://localhost:8080/"
        },
        "id": "3cOhYN3Rs3h0",
        "outputId": "c0445ffe-f9a6-4bdf-9b14-e681c70ad8f7"
      },
      "execution_count": 16,
      "outputs": [
        {
          "output_type": "execute_result",
          "data": {
            "text/plain": [
              "torch.Size([6131, 28, 28])"
            ]
          },
          "metadata": {},
          "execution_count": 16
        }
      ]
    },
    {
      "cell_type": "markdown",
      "source": [
        "shape attribute tells you the length of each axis.\n",
        "\n",
        "The semantics of a tensor are up to us. As far as PyTorch is concerned, it is just a bunch of numbers in memory."
      ],
      "metadata": {
        "id": "QjTXs6Ej8H6y"
      }
    },
    {
      "cell_type": "code",
      "source": [
        "# rank: length of a tensor's shape\n",
        "len(torch.stack(three_tensors).shape)"
      ],
      "metadata": {
        "colab": {
          "base_uri": "https://localhost:8080/"
        },
        "id": "80Ablgxr9BXI",
        "outputId": "637ca218-5612-4b8f-9486-16b9f50015ed"
      },
      "execution_count": 17,
      "outputs": [
        {
          "output_type": "execute_result",
          "data": {
            "text/plain": [
              "3"
            ]
          },
          "metadata": {},
          "execution_count": 17
        }
      ]
    },
    {
      "cell_type": "markdown",
      "source": [
        "**rank** : the number of axes or dimensions in a tensor\n",
        "\n",
        "**shape** : the size(length) of each axis of a tensor"
      ],
      "metadata": {
        "id": "DfU1Afzy9phv"
      }
    },
    {
      "cell_type": "code",
      "source": [
        "# usually when images are floats, the pixel values are expected to be between 0 and 1\n",
        "# therefore, let's make them as float and divide them by 255\n",
        "stacked_threes = torch.stack(three_tensors).float() / 255\n",
        "stacked_sevens = torch.stack(seven_tensors).float() / 255"
      ],
      "metadata": {
        "id": "E1ZIL8mV7kYM"
      },
      "execution_count": 18,
      "outputs": []
    },
    {
      "cell_type": "code",
      "source": [
        "# display a tensor as a image\n",
        "show_image(seven_tensors[10])"
      ],
      "metadata": {
        "id": "kHIdINAW79Pi",
        "colab": {
          "base_uri": "https://localhost:8080/",
          "height": 103
        },
        "outputId": "a1d532ff-25b4-4788-cb65-d225432764d2"
      },
      "execution_count": 19,
      "outputs": [
        {
          "output_type": "execute_result",
          "data": {
            "text/plain": [
              "<matplotlib.axes._subplots.AxesSubplot at 0x7fedfd930880>"
            ]
          },
          "metadata": {},
          "execution_count": 19
        },
        {
          "output_type": "display_data",
          "data": {
            "text/plain": [
              "<Figure size 72x72 with 1 Axes>"
            ],
            "image/png": "[encoded data removed]"
          },
          "metadata": {
            "needs_background": "light"
          }
        }
      ]
    },
    {
      "cell_type": "code",
      "source": [
        "# another way to check a tensor's rank\n",
        "stacked_threes.ndim"
      ],
      "metadata": {
        "colab": {
          "base_uri": "https://localhost:8080/"
        },
        "id": "6l9QEgxcNO0J",
        "outputId": "f2a824b3-193a-413d-c66f-f261321631d3"
      },
      "execution_count": 20,
      "outputs": [
        {
          "output_type": "execute_result",
          "data": {
            "text/plain": [
              "3"
            ]
          },
          "metadata": {},
          "execution_count": 20
        }
      ]
    },
    {
      "cell_type": "markdown",
      "source": [
        "torch.stack function's default axis is 0. \n",
        "\n",
        "Regarding how it stacks tensors, please refer to the following stackoverflow page.\n",
        "\n",
        "https://stackoverflow.com/questions/69220221/use-of-torch-stack"
      ],
      "metadata": {
        "id": "OwAKpIhtQKI-"
      }
    },
    {
      "cell_type": "code",
      "source": [
        "# calculate the mean of all the image tensors by taking the mean along dimension 0 of the stacked, rank-3 tensor\n",
        "mean3 = stacked_threes.mean(0)\n",
        "mean3.shape"
      ],
      "metadata": {
        "colab": {
          "base_uri": "https://localhost:8080/"
        },
        "id": "AhlmrAY5PJPd",
        "outputId": "ddf1cc9c-f6f7-4af8-f8bf-7fe049526780"
      },
      "execution_count": 21,
      "outputs": [
        {
          "output_type": "execute_result",
          "data": {
            "text/plain": [
              "torch.Size([28, 28])"
            ]
          },
          "metadata": {},
          "execution_count": 21
        }
      ]
    },
    {
      "cell_type": "code",
      "source": [
        "# according to this dataset, this is the ideal number 3\n",
        "show_image(mean3)"
      ],
      "metadata": {
        "colab": {
          "base_uri": "https://localhost:8080/",
          "height": 103
        },
        "id": "krcVDK4FRQwU",
        "outputId": "3ed9c0aa-da98-4406-cacc-51a9d050fe4e"
      },
      "execution_count": 22,
      "outputs": [
        {
          "output_type": "execute_result",
          "data": {
            "text/plain": [
              "<matplotlib.axes._subplots.AxesSubplot at 0x7fedfd4a3910>"
            ]
          },
          "metadata": {},
          "execution_count": 22
        },
        {
          "output_type": "display_data",
          "data": {
            "text/plain": [
              "<Figure size 72x72 with 1 Axes>"
            ],
            "image/png": "[encoded data removed]"
          },
          "metadata": {
            "needs_background": "light"
          }
        }
      ]
    },
    {
      "cell_type": "code",
      "source": [
        "# do the same for 7s\n",
        "mean7 = stacked_sevens.mean(0)\n",
        "show_image(mean7)"
      ],
      "metadata": {
        "colab": {
          "base_uri": "https://localhost:8080/",
          "height": 103
        },
        "id": "gxdUdn3RRZ9F",
        "outputId": "bfb54617-0935-44d6-e28a-6cdee4164f0e"
      },
      "execution_count": 23,
      "outputs": [
        {
          "output_type": "execute_result",
          "data": {
            "text/plain": [
              "<matplotlib.axes._subplots.AxesSubplot at 0x7fedfe5bc1c0>"
            ]
          },
          "metadata": {},
          "execution_count": 23
        },
        {
          "output_type": "display_data",
          "data": {
            "text/plain": [
              "<Figure size 72x72 with 1 Axes>"
            ],
            "image/png": "[encoded data removed]"
          },
          "metadata": {
            "needs_background": "light"
          }
        }
      ]
    },
    {
      "cell_type": "code",
      "source": [
        "# let's pick an arbitrary 3 and measure its distance from our \"ideal digits\" (mean3 and mean7)\n",
        "random3 = stacked_threes[12]\n",
        "show_image(random3)"
      ],
      "metadata": {
        "colab": {
          "base_uri": "https://localhost:8080/",
          "height": 103
        },
        "id": "2CZ80R2DSBxL",
        "outputId": "1e322212-a9ec-4fb5-8e50-0be5ddcca99a"
      },
      "execution_count": 24,
      "outputs": [
        {
          "output_type": "execute_result",
          "data": {
            "text/plain": [
              "<matplotlib.axes._subplots.AxesSubplot at 0x7fedfd4286a0>"
            ]
          },
          "metadata": {},
          "execution_count": 24
        },
        {
          "output_type": "display_data",
          "data": {
            "text/plain": [
              "<Figure size 72x72 with 1 Axes>"
            ],
            "image/png": "[encoded data removed]"
          },
          "metadata": {
            "needs_background": "light"
          }
        }
      ]
    },
    {
      "cell_type": "markdown",
      "source": [
        "**How can we determine its distance from our ideal 3?**\n",
        "\n",
        "We can't just add up the differences between the pixels of this images and the ideal digit because some differences will be positive, while others will be negative, and these differences will cancel out. \n",
        "\n",
        "**Two Main Ways**\n",
        "\n",
        "*   Mean Absolute Difference (or L1 norm)\n",
        "*   Root Mean Squared Error (or L2 norm)"
      ],
      "metadata": {
        "id": "ASHcC0LpTc9u"
      }
    },
    {
      "cell_type": "code",
      "source": [
        "# take the mean of  the absolute value of differences\n",
        "L1_norm = (random3 - mean3).abs().mean()\n",
        "\n",
        "# tkae the mean of the square of differences\n",
        "# and then take the square root (which undoes the squaring)\n",
        "L2_norm = ((random3 - mean3)**2).mean().sqrt()\n",
        "L1_norm, L2_norm"
      ],
      "metadata": {
        "colab": {
          "base_uri": "https://localhost:8080/"
        },
        "id": "LfHovBlcSqjf",
        "outputId": "2df6c069-cc27-4645-bc6a-752c5210112f"
      },
      "execution_count": 25,
      "outputs": [
        {
          "output_type": "execute_result",
          "data": {
            "text/plain": [
              "(tensor(0.1286), tensor(0.2366))"
            ]
          },
          "metadata": {},
          "execution_count": 25
        }
      ]
    },
    {
      "cell_type": "code",
      "source": [
        "# let's see random3's distance from the ideal 7 tensor\n",
        "L1_norm_cf = (random3 - mean7).abs().mean()\n",
        "L2_norm_cf = ((random3 - mean7)**2).mean().sqrt()\n",
        "L1_norm_cf, L2_norm_cf"
      ],
      "metadata": {
        "colab": {
          "base_uri": "https://localhost:8080/"
        },
        "id": "u3DKWA7fVVS1",
        "outputId": "b0a191a3-de85-4281-d467-e100f17d7ef7"
      },
      "execution_count": 26,
      "outputs": [
        {
          "output_type": "execute_result",
          "data": {
            "text/plain": [
              "(tensor(0.1534), tensor(0.2920))"
            ]
          },
          "metadata": {},
          "execution_count": 26
        }
      ]
    },
    {
      "cell_type": "markdown",
      "source": [
        "In both cases, the distance between our 3 and the ideal 3 is less than the distance to the ideal 7, so our simple model will give the right prediction in this case.\n",
        "\n",
        "**PyTorch's loss functions**\n",
        "PyTorch already provides both of these as loss functions\n",
        "\n",
        "\n",
        "```\n",
        "import torch.nn.functional as F # is available by default under that name in fastai\n",
        "F.l1_loss(random3.float(), mean7)\n",
        "F.mse_loss(random3, mean7).sqrt()\n",
        "```"
      ],
      "metadata": {
        "id": "tqDviHLxaQ4c"
      }
    },
    {
      "cell_type": "code",
      "source": [
        "# we don't have to import Pytorch loss function\n",
        "# as it is available by default under F in fastai\n",
        "\n",
        "F.l1_loss(random3.float(), mean7), F.mse_loss(random3, mean7).sqrt()"
      ],
      "metadata": {
        "colab": {
          "base_uri": "https://localhost:8080/"
        },
        "id": "Z7NrMqUPZ--g",
        "outputId": "ecee78f2-67e8-4c0a-c9ff-670df768355e"
      },
      "execution_count": 27,
      "outputs": [
        {
          "output_type": "execute_result",
          "data": {
            "text/plain": [
              "(tensor(0.1534), tensor(0.2920))"
            ]
          },
          "metadata": {},
          "execution_count": 27
        }
      ]
    },
    {
      "cell_type": "markdown",
      "source": [
        "**The Difference between L1 norm and Mean Squared Error (MSE)**\n",
        "\n",
        "MSE will penalize bigger mistakes more heavily and be more lenient with small mistakes than L1 norm."
      ],
      "metadata": {
        "id": "8I--Ca-Qewoq"
      }
    },
    {
      "cell_type": "markdown",
      "source": [
        "**NumPy Arrays VS PyTorch Tensors**\n",
        "\n",
        "NumPy provides similar functionality and similar API to that provided by Pytorch; \n",
        "\n",
        "however, it does **NOT** support using the **GPU** or **calculating gradients**, which are both critical for deep learning.\n",
        "\n",
        "<br>\n",
        "\n",
        "| Numpy array | PyTorch tensor\n",
        "|:----: | :----:  |\n",
        "|       | GPU     | \n",
        "| multidimensional table |  multidimensional table |\n",
        "|fast computation |  fast computation|\n",
        "| jagged array  | No jagged array |\n",
        "| any data type | basic numeric type |\n",
        "\n",
        "\n",
        "<br>\n",
        "\n",
        "**What is a jagged array?**\n",
        "It's called 'jagged array' or 'irregular array' when member arrays have different lengths as the illustration below.\n",
        "\n",
        "<img src=\"https://scaler.com/topics/images/what-is-a-jagged-array.webp\" width=400></img>\n",
        " \n"
      ],
      "metadata": {
        "id": "QzmTfr-Wfgg9"
      }
    },
    {
      "cell_type": "code",
      "source": [
        "# create an array or tensor\n",
        "# pass a list, or a list of lists, or list of lists of lists to array or tensor\n",
        "data = [[1,2,3],[4,5,6]]\n",
        "arr = np.array(data)\n",
        "tns = tensor(data)\n",
        "\n",
        "arr # numpy"
      ],
      "metadata": {
        "id": "QMtp2YE7fgIz",
        "colab": {
          "base_uri": "https://localhost:8080/"
        },
        "outputId": "000bfa74-a011-4e9f-d2f2-8a03b453f179"
      },
      "execution_count": 28,
      "outputs": [
        {
          "output_type": "execute_result",
          "data": {
            "text/plain": [
              "array([[1, 2, 3],\n",
              "       [4, 5, 6]])"
            ]
          },
          "metadata": {},
          "execution_count": 28
        }
      ]
    },
    {
      "cell_type": "code",
      "source": [
        "tns # pytorch"
      ],
      "metadata": {
        "id": "ASBjp4jybkux",
        "colab": {
          "base_uri": "https://localhost:8080/"
        },
        "outputId": "939bac91-f6da-4322-cc05-db75893afdf7"
      },
      "execution_count": 29,
      "outputs": [
        {
          "output_type": "execute_result",
          "data": {
            "text/plain": [
              "tensor([[1, 2, 3],\n",
              "        [4, 5, 6]])"
            ]
          },
          "metadata": {},
          "execution_count": 29
        }
      ]
    },
    {
      "cell_type": "code",
      "source": [
        "# select a row\n",
        "tns[1]"
      ],
      "metadata": {
        "colab": {
          "base_uri": "https://localhost:8080/"
        },
        "id": "7QHOVvoheKJl",
        "outputId": "78feea36-559d-4cf5-96f7-20fd4851d42d"
      },
      "execution_count": 30,
      "outputs": [
        {
          "output_type": "execute_result",
          "data": {
            "text/plain": [
              "tensor([4, 5, 6])"
            ]
          },
          "metadata": {},
          "execution_count": 30
        }
      ]
    },
    {
      "cell_type": "code",
      "source": [
        "# select a column\n",
        "tns[:, 1]"
      ],
      "metadata": {
        "colab": {
          "base_uri": "https://localhost:8080/"
        },
        "id": "p4xELuP9eUtR",
        "outputId": "50027358-d19b-4718-8459-08138d87e985"
      },
      "execution_count": 31,
      "outputs": [
        {
          "output_type": "execute_result",
          "data": {
            "text/plain": [
              "tensor([2, 5])"
            ]
          },
          "metadata": {},
          "execution_count": 31
        }
      ]
    },
    {
      "cell_type": "code",
      "source": [
        "# can use the standard operations such as +, -, *, /\n",
        "tns + 1"
      ],
      "metadata": {
        "colab": {
          "base_uri": "https://localhost:8080/"
        },
        "id": "-2XOX_j3eb-f",
        "outputId": "c3964279-67f2-4816-a5ac-b946828dbe5c"
      },
      "execution_count": 32,
      "outputs": [
        {
          "output_type": "execute_result",
          "data": {
            "text/plain": [
              "tensor([[2, 3, 4],\n",
              "        [5, 6, 7]])"
            ]
          },
          "metadata": {},
          "execution_count": 32
        }
      ]
    },
    {
      "cell_type": "code",
      "source": [
        "# view tensor type\n",
        "tns.type()"
      ],
      "metadata": {
        "colab": {
          "base_uri": "https://localhost:8080/",
          "height": 35
        },
        "id": "erVkCDpaemlt",
        "outputId": "df1d7c20-d381-4eac-96c3-d803f2485a3b"
      },
      "execution_count": 33,
      "outputs": [
        {
          "output_type": "execute_result",
          "data": {
            "text/plain": [
              "'torch.LongTensor'"
            ],
            "application/vnd.google.colaboratory.intrinsic+json": {
              "type": "string"
            }
          },
          "metadata": {},
          "execution_count": 33
        }
      ]
    },
    {
      "cell_type": "code",
      "source": [
        "# automatically change the type as needed\n",
        "(tns * 1.5).type()"
      ],
      "metadata": {
        "colab": {
          "base_uri": "https://localhost:8080/",
          "height": 35
        },
        "id": "ePRZ8RB1enc7",
        "outputId": "750c104d-a19d-4fb8-f00b-6644db8027e0"
      },
      "execution_count": 34,
      "outputs": [
        {
          "output_type": "execute_result",
          "data": {
            "text/plain": [
              "'torch.FloatTensor'"
            ],
            "application/vnd.google.colaboratory.intrinsic+json": {
              "type": "string"
            }
          },
          "metadata": {},
          "execution_count": 34
        }
      ]
    },
    {
      "cell_type": "markdown",
      "source": [
        "## 3.   Computing Metrics Using Broadcasting\n",
        "\n",
        "We're going to calculate a *metric* to tell use how good our model is. \n",
        "<br>\n",
        "<br>\n",
        "Loss functions such as mean absolute error or mean squared errors are not understandable to most people; in practice, we normally use *accuracy* as the metrics for classification models.\n",
        "<br>\n",
        "<br>\n",
        "Let's calculate our metrics over a validation set."
      ],
      "metadata": {
        "id": "YapUSn9jfKl-"
      }
    },
    {
      "cell_type": "code",
      "source": [
        "# create tensors for 3s and 7s from validation set directory\n",
        "valid_3_tens = torch.stack([tensor(Image.open(o)) for o in (path/'valid'/'3').ls()])\n",
        "valid_7_tens = torch.stack([tensor(Image.open(o)) for o in (path/'valid'/'7').ls()])\n",
        "\n",
        "# convert pixel values as float and divide by 255 to make pixel values between 0 and 1 values\n",
        "valid_3_tens = valid_3_tens.float() / 255\n",
        "valid_7_tens = valid_7_tens.float() / 255\n"
      ],
      "metadata": {
        "id": "1BHhpNtSfKTx"
      },
      "execution_count": 35,
      "outputs": []
    },
    {
      "cell_type": "code",
      "source": [
        "# view the shape of tensors\n",
        "valid_3_tens.shape, valid_7_tens.shape"
      ],
      "metadata": {
        "colab": {
          "base_uri": "https://localhost:8080/"
        },
        "id": "N9rU9bFYez5i",
        "outputId": "23c5b64a-051a-43a1-899e-dee8f783cf9d"
      },
      "execution_count": 36,
      "outputs": [
        {
          "output_type": "execute_result",
          "data": {
            "text/plain": [
              "(torch.Size([1010, 28, 28]), torch.Size([1028, 28, 28]))"
            ]
          },
          "metadata": {},
          "execution_count": 36
        }
      ]
    },
    {
      "cell_type": "code",
      "source": [
        "# define a function that computes the distance between two images\n",
        "def mnist_distance(a, b):\n",
        "  return (a-b).abs().mean((-1,-2)) \n",
        "  # mean(-1, -2) tells PyTorch that we want to take the mean\n",
        "  # ranging over the values indexed \n",
        "  # by the last two axes of the tensor."
      ],
      "metadata": {
        "id": "miPPatyUnY61"
      },
      "execution_count": 37,
      "outputs": []
    },
    {
      "cell_type": "markdown",
      "source": [
        "**Calculate the distance to the ideal 3 for every image in the validation set**\n",
        "<br>\n",
        "no need to loop over 1010 images because **PyTorch will use broadcasting** when it tries to perform a simple subtraction operation between two tensors of different ranks. \n",
        "\n",
        "<br>\n",
        "\n",
        "*   validation set (rank-3) :   [1010, 28, 28]\n",
        "*   mean 3 (rank-2) :   [28, 28]\n",
        "\n",
        "<br>\n",
        "PyTorch will automatically expand the tensor with the smaller rank to have the same size as the one with the larger rank.\n",
        "\n",
        "\n",
        "<br>\n",
        "<br>\n",
        "<img src = 'https://i.stack.imgur.com/kU0mv.png' width = 400></img>\n",
        "\n",
        "\n",
        "PyTorch treats mean3, a rank-2 tensor representing a single image, as if it were 1,010 copies of the same image, and then subtracts each of those copies from each validation set. \n",
        "\n",
        "<br>\n",
        "\n",
        "There are a couple of **important points** about how broadcasting is implemented, which makes it valuable not just for expressivity but also for performance:\n",
        "\n",
        "\n",
        "\n",
        "*   PyTorch doesn't actually copy mean3 1,010 times. It pretends it were a tensor of that shape, but doesn't allocate any additional memory.\n",
        "*   It does the whole calculation in C (or, if you'e using a GPU, in CUDA, the equivalent of C on the CPU), tens of thousands of times faster than pure Python (up to milions of times faster on a GPU).\n",
        "\n"
      ],
      "metadata": {
        "id": "83ZiikyQqMuo"
      }
    },
    {
      "cell_type": "code",
      "source": [
        "# calculate the distance between validation set images of 3 and ideal image of 3\n",
        "mnist_distance(valid_3_tens, mean3)"
      ],
      "metadata": {
        "colab": {
          "base_uri": "https://localhost:8080/"
        },
        "id": "hYNRdt-7pcHl",
        "outputId": "9b18c23e-3698-4171-e960-ffa26e6a5675"
      },
      "execution_count": 38,
      "outputs": [
        {
          "output_type": "execute_result",
          "data": {
            "text/plain": [
              "tensor([0.1263, 0.1044, 0.1207,  ..., 0.1440, 0.1222, 0.1587])"
            ]
          },
          "metadata": {},
          "execution_count": 38
        }
      ]
    },
    {
      "cell_type": "code",
      "source": [
        "# create a function, is_3\n",
        "def is_3(x):\n",
        "  # logic: if the distance between the digit in question and the ideal 3 \n",
        "  # is less than the distance to the ideal 7, then it's 3.\n",
        "  return mnist_distance(x, mean3) < mnist_distance(x, mean7)"
      ],
      "metadata": {
        "id": "klbMadC0UCMQ"
      },
      "execution_count": 39,
      "outputs": []
    },
    {
      "cell_type": "code",
      "source": [
        "# let's test it. \n",
        "is_3(random3), is_3(random3).float()"
      ],
      "metadata": {
        "colab": {
          "base_uri": "https://localhost:8080/"
        },
        "id": "WI3RyHJOUetF",
        "outputId": "06415333-c77f-4fbd-8d3f-1b6b8837f42a"
      },
      "execution_count": 40,
      "outputs": [
        {
          "output_type": "execute_result",
          "data": {
            "text/plain": [
              "(tensor(True), tensor(1.))"
            ]
          },
          "metadata": {},
          "execution_count": 40
        }
      ]
    },
    {
      "cell_type": "code",
      "source": [
        "# thanks to broadcasting, we can test it on the full validation set of 3s\n",
        "is_3(valid_3_tens)"
      ],
      "metadata": {
        "colab": {
          "base_uri": "https://localhost:8080/"
        },
        "id": "8UvtZLpBUuCJ",
        "outputId": "973444de-b894-42db-8839-fa1ca587469b"
      },
      "execution_count": 41,
      "outputs": [
        {
          "output_type": "execute_result",
          "data": {
            "text/plain": [
              "tensor([True, True, True,  ..., True, True, True])"
            ]
          },
          "metadata": {},
          "execution_count": 41
        }
      ]
    },
    {
      "cell_type": "code",
      "source": [
        "is_3(valid_7_tens)"
      ],
      "metadata": {
        "colab": {
          "base_uri": "https://localhost:8080/"
        },
        "id": "d7eojrx4VLxN",
        "outputId": "95622cc1-8aa9-4e8e-a6d2-d0e02b2848a2"
      },
      "execution_count": 42,
      "outputs": [
        {
          "output_type": "execute_result",
          "data": {
            "text/plain": [
              "tensor([False, False, False,  ..., False, False, False])"
            ]
          },
          "metadata": {},
          "execution_count": 42
        }
      ]
    },
    {
      "cell_type": "code",
      "source": [
        "# calculate the accuracy\n",
        "# by taking the average of that function for all 3s and its inverse for all 7s\n",
        "accuracy_3s = is_3(valid_3_tens).float().mean()\n",
        "accuracy_7s = 1 - is_3(valid_7_tens).float().mean()\n",
        "\n",
        "accuracy_3s, accuracy_7s"
      ],
      "metadata": {
        "colab": {
          "base_uri": "https://localhost:8080/"
        },
        "id": "m-NbkzyoVNZH",
        "outputId": "d6f76bde-7c28-46ff-9513-fd2a86e35f9c"
      },
      "execution_count": 43,
      "outputs": [
        {
          "output_type": "execute_result",
          "data": {
            "text/plain": [
              "(tensor(0.9168), tensor(0.9854))"
            ]
          },
          "metadata": {},
          "execution_count": 43
        }
      ]
    },
    {
      "cell_type": "markdown",
      "source": [
        "We're getting over 90% accuracy on both 3s and 7s.\n",
        "\n",
        "We're classifying only 2 out of the 10 possible digits so far. To do better, let's learn about one that can automatically modify itself to improve its performance, that is, **the training process and SGD**"
      ],
      "metadata": {
        "id": "XNp0rD1Bbzad"
      }
    },
    {
      "cell_type": "markdown",
      "source": [
        "## 4.   Stochastic Gradient Descent\n",
        "\n",
        "[Arthur Samuel](https://en.wikipedia.org/wiki/Arthur_Samuel_(computer_scientist) described machine learning as below.\n",
        "\n",
        "> Suppose we arrange for some automatic means of testing the effectiveness of any current weight assignment in terms of actual performance and provide a mechanism for altering the weight assignment so as to maximize the performance. We need not to go into the details of such a performance to see that it could be made entirely automatic and to see that a machine so programmed would \"learn\" from its experience.\n",
        "\n",
        "<br>\n",
        "\n",
        "**have a model that can get better and better - that can learn.**\n",
        "\n",
        "The problem with pixel similarity approach we practised earlier is that we can't improve it by modifying a set of parameters or weight. \n",
        "\n",
        "<br>\n",
        "\n",
        "**have a weight assignments or any way of improving based on testing the effectiveness of a weight assignment**\n",
        "\n",
        "We could look at each individual pixel and come up with a set of weights for each such that the highest weights are associated with those pixels are most likely to be black for a particular category.\n",
        "\n",
        "> the weight for pixel where the color is white < the weight for pixel where the color is black\n",
        "\n",
        "\n",
        "\n",
        "```\n",
        "# the probability of being the number 3\n",
        "def pr_three(x, w): return (x*w).sum()\n",
        "```\n",
        "\n",
        "We want to find the specific values for the vector *w* that causes the result of our fuction to be high for those images that are 3s and low for those images that are not.\n",
        "\n",
        "**search for the best vector w** by updating the weights to make them better\n",
        "\n",
        "<br>\n",
        "\n",
        "**7 steps to turn this function into a machine learning classifier**\n",
        "\n",
        "1. Initialize the weights\n",
        "2. Use these weights to predict\n",
        "3. Calculate its loss\n",
        "4. Caculate the gradient\n",
        "> Gradient measures for each weights how changing that weight would change the loss.\n",
        "5. Step (that is, change) all the weights based on the calculation\n",
        "6. Go back to step 2 and repeat the process\n",
        "7. Iterate untill you decide to stop the training process\n"
      ],
      "metadata": {
        "id": "vFtmgWagdDq0"
      }
    },
    {
      "cell_type": "code",
      "source": [
        "def f(x): return x**2"
      ],
      "metadata": {
        "id": "vA-8RF2g5Gjl"
      },
      "execution_count": 47,
      "outputs": []
    },
    {
      "cell_type": "code",
      "source": [
        "def plot_function(f, tx=None, ty=None, title=None, min=-2, max=2, figsize=(6,4)):\n",
        "    x = torch.linspace(min,max, 100)\n",
        "    fig,ax = plt.subplots(figsize=figsize)\n",
        "    ax.plot(x,f(x))\n",
        "    if tx is not None: ax.set_xlabel(tx)\n",
        "    if ty is not None: ax.set_ylabel(ty)\n",
        "    if title is not None: ax.set_title(title)"
      ],
      "metadata": {
        "id": "TrXmhuqw6OYc"
      },
      "execution_count": 60,
      "outputs": []
    },
    {
      "cell_type": "code",
      "source": [
        "plot_function(f, tx= 'x', ty ='x**2')"
      ],
      "metadata": {
        "colab": {
          "base_uri": "https://localhost:8080/",
          "height": 279
        },
        "id": "FA048gtv5LLG",
        "outputId": "29c0d688-5e7f-461c-bfd0-8d397b053407"
      },
      "execution_count": 61,
      "outputs": [
        {
          "output_type": "display_data",
          "data": {
            "text/plain": [
              "<Figure size 432x288 with 1 Axes>"
            ],
            "image/png": "[encoded data removed]"
          },
          "metadata": {
            "needs_background": "light"
          }
        }
      ]
    },
    {
      "cell_type": "code",
      "source": [
        "xt = tensor(3.).requires_grad_()"
      ],
      "metadata": {
        "id": "zrL1gNgUbsKv"
      },
      "execution_count": 62,
      "outputs": []
    },
    {
      "cell_type": "code",
      "source": [
        "# calculate function\n",
        "# and it has a gradient function it will be using to calculate when needed\n",
        "yt = f(xt)\n",
        "yt"
      ],
      "metadata": {
        "colab": {
          "base_uri": "https://localhost:8080/"
        },
        "id": "ywcHoTRC46wE",
        "outputId": "8cb4833d-f37a-4274-b3b6-91ee813ada67"
      },
      "execution_count": 63,
      "outputs": [
        {
          "output_type": "execute_result",
          "data": {
            "text/plain": [
              "tensor(9., grad_fn=<PowBackward0>)"
            ]
          },
          "metadata": {},
          "execution_count": 63
        }
      ]
    },
    {
      "cell_type": "code",
      "source": [
        "# backward refers to 'backpropagation'\n",
        "# backpropagation : the process of calculating the derivative of each layer\n",
        "yt.backward()"
      ],
      "metadata": {
        "id": "N1RW_iQA5B_O"
      },
      "execution_count": 64,
      "outputs": []
    },
    {
      "cell_type": "code",
      "source": [
        "# check the grad attribute of our tensor\n",
        "xt.grad"
      ],
      "metadata": {
        "colab": {
          "base_uri": "https://localhost:8080/"
        },
        "id": "At1JhNam7dzY",
        "outputId": "9ac4ed5e-13de-47c8-d79b-0d1a15b74732"
      },
      "execution_count": 65,
      "outputs": [
        {
          "output_type": "execute_result",
          "data": {
            "text/plain": [
              "tensor(6.)"
            ]
          },
          "metadata": {},
          "execution_count": 65
        }
      ]
    },
    {
      "cell_type": "markdown",
      "source": [
        "High school calculus rule : **the derivative of x**2 is 2*x.**"
      ],
      "metadata": {
        "id": "YlcqVPyI79vO"
      }
    },
    {
      "cell_type": "code",
      "source": [
        "# repeat the preceeding steps with a vector argument\n",
        "xt2 = tensor([3. ,4. ,10.]).requires_grad_()\n",
        "xt2"
      ],
      "metadata": {
        "colab": {
          "base_uri": "https://localhost:8080/"
        },
        "id": "BM_HkNJw77l9",
        "outputId": "4fac3b02-9bfb-4b4e-a553-82e17ba3f109"
      },
      "execution_count": 69,
      "outputs": [
        {
          "output_type": "execute_result",
          "data": {
            "text/plain": [
              "tensor([ 3.,  4., 10.], requires_grad=True)"
            ]
          },
          "metadata": {},
          "execution_count": 69
        }
      ]
    },
    {
      "cell_type": "code",
      "source": [
        "# add sum to our function so it can take a vector and return a scalar\n",
        "def f(x): return (x**2).sum()"
      ],
      "metadata": {
        "id": "VFsmnXMY9sZu"
      },
      "execution_count": 72,
      "outputs": []
    },
    {
      "cell_type": "code",
      "source": [
        "# calculate function\n",
        "yt2 = f(xt2)\n",
        "yt2"
      ],
      "metadata": {
        "colab": {
          "base_uri": "https://localhost:8080/"
        },
        "id": "fbOJsz1N8rij",
        "outputId": "b8c2e6e6-c7ea-4394-9a4c-9eda1178752f"
      },
      "execution_count": 73,
      "outputs": [
        {
          "output_type": "execute_result",
          "data": {
            "text/plain": [
              "tensor(125., grad_fn=<SumBackward0>)"
            ]
          },
          "metadata": {},
          "execution_count": 73
        }
      ]
    },
    {
      "cell_type": "code",
      "source": [
        "# backpropagation: calcuate the derivative \n",
        "yt2.backward()\n",
        "\n",
        "# check the gradient\n",
        "xt2.grad"
      ],
      "metadata": {
        "colab": {
          "base_uri": "https://localhost:8080/"
        },
        "id": "AXdvutQr9L2x",
        "outputId": "14a7dce2-bc5c-4e10-9a19-42aeff78a495"
      },
      "execution_count": 74,
      "outputs": [
        {
          "output_type": "execute_result",
          "data": {
            "text/plain": [
              "tensor([ 6.,  8., 20.])"
            ]
          },
          "metadata": {},
          "execution_count": 74
        }
      ]
    },
    {
      "cell_type": "code",
      "source": [],
      "metadata": {
        "id": "tNuHveqO9PKM"
      },
      "execution_count": null,
      "outputs": []
    }
  ]
}